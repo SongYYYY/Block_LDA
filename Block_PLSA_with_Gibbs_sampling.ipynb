{
 "cells": [
  {
   "cell_type": "code",
   "execution_count": 211,
   "metadata": {},
   "outputs": [],
   "source": [
    "import numpy as np\n",
    "import scipy.stats as stats\n",
    "import matplotlib.pyplot as plt \n",
    "import random \n",
    "import networkx as nx \n",
    "import itertools \n",
    "import pickle \n",
    "from scipy.special import digamma\n",
    "import seaborn as sns \n",
    "import timeit\n",
    "from Block_PLSA.beta import Block_PLSA,index2ij\n",
    "from Block_PLSA.utils_beta import draw_image_matrix,get_normalized_theta,get_top_docs,get_top_tokens,get_sub_input,\\\n",
    "get_cluster_results,get_train_graph\n",
    "import sklearn.metrics as metrics "
   ]
  },
  {
   "cell_type": "code",
   "execution_count": 57,
   "metadata": {},
   "outputs": [],
   "source": [
    "np.set_printoptions(formatter={'float': lambda x: \"{0:0.15f}\".format(x)}) "
   ]
  },
  {
   "cell_type": "code",
   "execution_count": 3,
   "metadata": {},
   "outputs": [],
   "source": [
    "# cora dataset\n",
    "G_cora=nx.read_adjlist('data/Cora_enrich/idx_adjlist.txt',nodetype=int,create_using=nx.DiGraph)\n",
    "# cora texts\n",
    "texts_cora=np.loadtxt('data/Cora_enrich/BOW_texts_3876.txt',dtype=np.int)"
   ]
  },
  {
   "cell_type": "code",
   "execution_count": 4,
   "metadata": {},
   "outputs": [],
   "source": [
    "with open('data/Cora_enrich/tokens_3876.pickle','rb') as f:\n",
    "    tokens=pickle.load(f)\n",
    "tokens=np.array(tokens)\n",
    "\n",
    "labels=[]\n",
    "with open('data/Cora_enrich/labels.txt') as f:\n",
    "    for line in f:\n",
    "        labels.append(line.strip())\n",
    "labels=np.array(labels)"
   ]
  },
  {
   "cell_type": "code",
   "execution_count": 5,
   "metadata": {},
   "outputs": [
    {
     "data": {
      "text/plain": [
       "{'Case_Based',\n",
       " 'Genetic_Algorithms',\n",
       " 'Neural_Networks',\n",
       " 'Probabilistic_Methods',\n",
       " 'Reinforcement_Learning',\n",
       " 'Rule_Learning',\n",
       " 'Theory'}"
      ]
     },
     "execution_count": 5,
     "metadata": {},
     "output_type": "execute_result"
    }
   ],
   "source": [
    "set(labels)"
   ]
  },
  {
   "cell_type": "code",
   "execution_count": 326,
   "metadata": {},
   "outputs": [],
   "source": [
    "classes=['Neural_Networks','Genetic_Algorithms','Theory','Rule_Learning']"
   ]
  },
  {
   "cell_type": "code",
   "execution_count": 327,
   "metadata": {},
   "outputs": [],
   "source": [
    "G_sub,labels_sub,texts_sub,_=get_sub_input(classes,G_cora,labels,texts_cora)"
   ]
  },
  {
   "cell_type": "code",
   "execution_count": 328,
   "metadata": {},
   "outputs": [],
   "source": [
    "bp=Block_PLSA(G_sub,texts_sub)"
   ]
  },
  {
   "cell_type": "code",
   "execution_count": 334,
   "metadata": {},
   "outputs": [],
   "source": [
    "K=5\n",
    "initialize='dir'\n",
    "alpha=0.01\n",
    "n_iter_EM=50\n",
    "n_iter_VI=100\n",
    "gamma_max_gap=0.001\n",
    "phi_max_gap=0.001\n",
    "gamma_default=0.01\n",
    "int_range=(1, 10)\n",
    "beta=0.1\n",
    "verbose=10"
   ]
  },
  {
   "cell_type": "code",
   "execution_count": 335,
   "metadata": {},
   "outputs": [
    {
     "name": "stdout",
     "output_type": "stream",
     "text": [
      "EM:0,VI:0,gamma_gap:3218.250000\n",
      "EM:0,VI:10,gamma_gap:0.506913\n",
      "EM:0,VI:20,gamma_gap:0.001525\n",
      "EM:0,phi_gap:7.489992,pi_gap:1.107790,omega_gap:6.549351\n",
      "EM:1,VI:0,gamma_gap:0.000484\n",
      "EM:1,phi_gap:0.884583,pi_gap:0.020953,omega_gap:0.843849\n",
      "EM:2,VI:0,gamma_gap:589.101088\n",
      "EM:2,VI:10,gamma_gap:42.791921\n",
      "EM:2,VI:20,gamma_gap:22.454442\n",
      "EM:2,VI:30,gamma_gap:14.835867\n",
      "EM:2,VI:40,gamma_gap:10.170652\n",
      "EM:2,VI:50,gamma_gap:7.734283\n",
      "EM:2,VI:60,gamma_gap:6.193895\n",
      "EM:2,VI:70,gamma_gap:5.132106\n",
      "EM:2,VI:80,gamma_gap:3.565940\n",
      "EM:2,VI:90,gamma_gap:2.698093\n",
      "EM:2,phi_gap:0.490061,pi_gap:0.011277,omega_gap:0.458434\n",
      "EM:3,VI:0,gamma_gap:1.913559\n",
      "EM:3,VI:10,gamma_gap:9.752752\n",
      "EM:3,VI:20,gamma_gap:6.238970\n",
      "EM:3,VI:30,gamma_gap:4.533364\n",
      "EM:3,VI:40,gamma_gap:3.391109\n",
      "EM:3,VI:50,gamma_gap:2.560830\n",
      "EM:3,VI:60,gamma_gap:1.282729\n",
      "EM:3,VI:70,gamma_gap:0.840214\n",
      "EM:3,VI:80,gamma_gap:0.565704\n",
      "EM:3,VI:90,gamma_gap:0.388261\n",
      "EM:3,phi_gap:0.361619,pi_gap:0.008125,omega_gap:0.335286\n",
      "EM:4,VI:0,gamma_gap:0.270444\n",
      "EM:4,VI:10,gamma_gap:8.484062\n",
      "EM:4,VI:20,gamma_gap:5.662645\n",
      "EM:4,VI:30,gamma_gap:3.849221\n",
      "EM:4,VI:40,gamma_gap:2.800049\n",
      "EM:4,VI:50,gamma_gap:2.088394\n",
      "EM:4,VI:60,gamma_gap:1.599543\n",
      "EM:4,VI:70,gamma_gap:1.257891\n",
      "EM:4,VI:80,gamma_gap:1.000404\n",
      "EM:4,VI:90,gamma_gap:0.801631\n",
      "EM:4,phi_gap:0.307430,pi_gap:0.007435,omega_gap:0.290045\n",
      "EM:5,VI:0,gamma_gap:0.646679\n",
      "EM:5,VI:10,gamma_gap:10.304576\n",
      "EM:5,VI:20,gamma_gap:6.214000\n",
      "EM:5,VI:30,gamma_gap:4.385205\n",
      "EM:5,VI:40,gamma_gap:3.347567\n",
      "EM:5,VI:50,gamma_gap:2.660693\n",
      "EM:5,VI:60,gamma_gap:2.212181\n",
      "EM:5,VI:70,gamma_gap:1.917459\n",
      "EM:5,VI:80,gamma_gap:1.700203\n",
      "EM:5,VI:90,gamma_gap:1.542416\n",
      "EM:5,phi_gap:0.283108,pi_gap:0.007611,omega_gap:0.274920\n",
      "EM:6,VI:0,gamma_gap:1.430245\n",
      "EM:6,VI:10,gamma_gap:9.847150\n",
      "EM:6,VI:20,gamma_gap:5.625931\n",
      "EM:6,VI:30,gamma_gap:3.896045\n",
      "EM:6,VI:40,gamma_gap:3.116964\n",
      "EM:6,VI:50,gamma_gap:2.038296\n",
      "EM:6,VI:60,gamma_gap:1.996475\n",
      "EM:6,VI:70,gamma_gap:1.939206\n",
      "EM:6,VI:80,gamma_gap:1.071644\n",
      "EM:6,VI:90,gamma_gap:0.753212\n",
      "EM:6,phi_gap:0.274311,pi_gap:0.008151,omega_gap:0.273213\n",
      "EM:7,VI:0,gamma_gap:0.623904\n",
      "EM:7,VI:10,gamma_gap:7.717698\n",
      "EM:7,VI:20,gamma_gap:3.760626\n",
      "EM:7,VI:30,gamma_gap:2.260174\n",
      "EM:7,VI:40,gamma_gap:1.674184\n",
      "EM:7,VI:50,gamma_gap:1.438217\n",
      "EM:7,VI:60,gamma_gap:1.323414\n",
      "EM:7,VI:70,gamma_gap:0.381027\n",
      "EM:7,VI:80,gamma_gap:0.214894\n",
      "EM:7,VI:90,gamma_gap:0.143308\n",
      "EM:7,phi_gap:0.271622,pi_gap:0.008794,omega_gap:0.277385\n",
      "EM:8,VI:0,gamma_gap:0.104652\n",
      "EM:8,VI:10,gamma_gap:7.822396\n",
      "EM:8,VI:20,gamma_gap:2.589535\n",
      "EM:8,VI:30,gamma_gap:1.198814\n",
      "EM:8,VI:40,gamma_gap:0.587354\n",
      "EM:8,VI:50,gamma_gap:0.306974\n",
      "EM:8,VI:60,gamma_gap:0.171663\n",
      "EM:8,VI:70,gamma_gap:0.101823\n",
      "EM:8,VI:80,gamma_gap:0.064812\n",
      "EM:8,VI:90,gamma_gap:0.042059\n",
      "EM:8,phi_gap:0.269786,pi_gap:0.009462,omega_gap:0.282007\n",
      "EM:9,VI:0,gamma_gap:0.028985\n",
      "EM:9,VI:10,gamma_gap:8.172271\n",
      "EM:9,VI:20,gamma_gap:3.346338\n",
      "EM:9,VI:30,gamma_gap:1.486557\n",
      "EM:9,VI:40,gamma_gap:0.730056\n",
      "EM:9,VI:50,gamma_gap:0.434227\n",
      "EM:9,VI:60,gamma_gap:0.274757\n",
      "EM:9,VI:70,gamma_gap:0.178950\n",
      "EM:9,VI:80,gamma_gap:0.118940\n",
      "EM:9,VI:90,gamma_gap:0.082080\n",
      "EM:9,phi_gap:0.266605,pi_gap:0.010118,omega_gap:0.284027\n",
      "EM:10,VI:0,gamma_gap:0.060248\n",
      "EM:10,VI:10,gamma_gap:7.517283\n",
      "EM:10,VI:20,gamma_gap:2.725798\n",
      "EM:10,VI:30,gamma_gap:1.202137\n",
      "EM:10,VI:40,gamma_gap:0.618514\n",
      "EM:10,VI:50,gamma_gap:0.348915\n",
      "EM:10,VI:60,gamma_gap:0.203859\n",
      "EM:10,VI:70,gamma_gap:0.126518\n",
      "EM:10,VI:80,gamma_gap:0.084067\n",
      "EM:10,VI:90,gamma_gap:0.057158\n",
      "EM:10,phi_gap:0.260935,pi_gap:0.010663,omega_gap:0.284384\n",
      "EM:11,VI:0,gamma_gap:0.042075\n",
      "EM:11,VI:10,gamma_gap:6.712241\n",
      "EM:11,VI:20,gamma_gap:2.437840\n",
      "EM:11,VI:30,gamma_gap:1.139908\n",
      "EM:11,VI:40,gamma_gap:0.621178\n",
      "EM:11,VI:50,gamma_gap:0.390978\n",
      "EM:11,VI:60,gamma_gap:0.287793\n",
      "EM:11,VI:70,gamma_gap:0.245929\n",
      "EM:11,VI:80,gamma_gap:0.231970\n",
      "EM:11,VI:90,gamma_gap:0.226712\n",
      "EM:11,phi_gap:0.253220,pi_gap:0.010913,omega_gap:0.281899\n",
      "EM:12,VI:0,gamma_gap:0.217547\n",
      "EM:12,VI:10,gamma_gap:5.978868\n",
      "EM:12,VI:20,gamma_gap:2.126625\n",
      "EM:12,VI:30,gamma_gap:1.041388\n",
      "EM:12,VI:40,gamma_gap:0.646392\n",
      "EM:12,VI:50,gamma_gap:0.541740\n",
      "EM:12,VI:60,gamma_gap:0.533255\n",
      "EM:12,VI:70,gamma_gap:0.586472\n",
      "EM:12,VI:80,gamma_gap:0.648880\n",
      "EM:12,VI:90,gamma_gap:0.718527\n",
      "EM:12,phi_gap:0.243766,pi_gap:0.010965,omega_gap:0.275623\n",
      "EM:13,VI:0,gamma_gap:0.807502\n",
      "EM:13,VI:10,gamma_gap:5.142525\n",
      "EM:13,VI:20,gamma_gap:1.839783\n",
      "EM:13,VI:30,gamma_gap:0.544581\n",
      "EM:13,VI:40,gamma_gap:0.299588\n",
      "EM:13,VI:50,gamma_gap:0.190751\n",
      "EM:13,VI:60,gamma_gap:0.144294\n",
      "EM:13,VI:70,gamma_gap:0.144196\n",
      "EM:13,VI:80,gamma_gap:0.167132\n",
      "EM:13,VI:90,gamma_gap:0.221963\n",
      "EM:13,phi_gap:0.232426,pi_gap:0.010896,omega_gap:0.265865\n",
      "EM:14,VI:0,gamma_gap:0.360943\n",
      "EM:14,VI:10,gamma_gap:4.002075\n",
      "EM:14,VI:20,gamma_gap:1.164242\n",
      "EM:14,VI:30,gamma_gap:0.457378\n",
      "EM:14,VI:40,gamma_gap:0.199083\n",
      "EM:14,VI:50,gamma_gap:0.090466\n",
      "EM:14,VI:60,gamma_gap:0.042364\n",
      "EM:14,VI:70,gamma_gap:0.020119\n",
      "EM:14,VI:80,gamma_gap:0.009669\n",
      "EM:14,VI:90,gamma_gap:0.004693\n",
      "EM:14,phi_gap:0.219721,pi_gap:0.010708,omega_gap:0.253614\n",
      "EM:15,VI:0,gamma_gap:0.002296\n",
      "EM:15,VI:10,gamma_gap:3.187592\n",
      "EM:15,VI:20,gamma_gap:0.988231\n",
      "EM:15,VI:30,gamma_gap:0.384423\n",
      "EM:15,VI:40,gamma_gap:0.165723\n",
      "EM:15,VI:50,gamma_gap:0.075445\n",
      "EM:15,VI:60,gamma_gap:0.035134\n",
      "EM:15,VI:70,gamma_gap:0.016688\n",
      "EM:15,VI:80,gamma_gap:0.008121\n",
      "EM:15,VI:90,gamma_gap:0.003974\n",
      "EM:15,phi_gap:0.208533,pi_gap:0.010402,omega_gap:0.241802\n",
      "EM:16,VI:0,gamma_gap:0.001954\n",
      "EM:16,VI:10,gamma_gap:2.834700\n",
      "EM:16,VI:20,gamma_gap:0.893709\n",
      "EM:16,VI:30,gamma_gap:0.327110\n",
      "EM:16,VI:40,gamma_gap:0.132565\n",
      "EM:16,VI:50,gamma_gap:0.057572\n",
      "EM:16,VI:60,gamma_gap:0.027179\n",
      "EM:16,VI:70,gamma_gap:0.013073\n",
      "EM:16,VI:80,gamma_gap:0.006387\n",
      "EM:16,VI:90,gamma_gap:0.003161\n",
      "EM:16,phi_gap:0.200439,pi_gap:0.009990,omega_gap:0.232681\n",
      "EM:17,VI:0,gamma_gap:0.001600\n",
      "EM:17,VI:10,gamma_gap:3.055207\n",
      "EM:17,VI:20,gamma_gap:1.047686\n",
      "EM:17,VI:30,gamma_gap:0.400304\n",
      "EM:17,VI:40,gamma_gap:0.167505\n",
      "EM:17,VI:50,gamma_gap:0.080469\n",
      "EM:17,VI:60,gamma_gap:0.039671\n",
      "EM:17,VI:70,gamma_gap:0.020322\n",
      "EM:17,VI:80,gamma_gap:0.010577\n",
      "EM:17,VI:90,gamma_gap:0.005509\n",
      "EM:17,phi_gap:0.192888,pi_gap:0.009605,omega_gap:0.223751\n",
      "EM:18,VI:0,gamma_gap:0.002872\n",
      "EM:18,VI:10,gamma_gap:3.619272\n",
      "EM:18,VI:20,gamma_gap:1.361296\n",
      "EM:18,VI:30,gamma_gap:0.575555\n",
      "EM:18,VI:40,gamma_gap:0.264475\n",
      "EM:18,VI:50,gamma_gap:0.135771\n",
      "EM:18,VI:60,gamma_gap:0.070999\n",
      "EM:18,VI:70,gamma_gap:0.037608\n",
      "EM:18,VI:80,gamma_gap:0.019940\n",
      "EM:18,VI:90,gamma_gap:0.010570\n",
      "EM:18,phi_gap:0.183290,pi_gap:0.009483,omega_gap:0.211820\n",
      "EM:19,VI:0,gamma_gap:0.005604\n",
      "EM:19,VI:10,gamma_gap:4.356334\n",
      "EM:19,VI:20,gamma_gap:1.985781\n",
      "EM:19,VI:30,gamma_gap:1.012464\n",
      "EM:19,VI:40,gamma_gap:0.558648\n",
      "EM:19,VI:50,gamma_gap:0.324755\n",
      "EM:19,VI:60,gamma_gap:0.193108\n",
      "EM:19,VI:70,gamma_gap:0.116178\n",
      "EM:19,VI:80,gamma_gap:0.070321\n",
      "EM:19,VI:90,gamma_gap:0.042699\n",
      "EM:19,phi_gap:0.173024,pi_gap:0.009464,omega_gap:0.197704\n",
      "EM:20,VI:0,gamma_gap:0.025969\n",
      "EM:20,VI:10,gamma_gap:4.272872\n",
      "EM:20,VI:20,gamma_gap:2.439540\n",
      "EM:20,VI:30,gamma_gap:1.643171\n",
      "EM:20,VI:40,gamma_gap:1.318934\n",
      "EM:20,VI:50,gamma_gap:1.194600\n",
      "EM:20,VI:60,gamma_gap:0.177279\n",
      "EM:20,VI:70,gamma_gap:0.084263\n",
      "EM:20,VI:80,gamma_gap:0.037508\n",
      "EM:20,VI:90,gamma_gap:0.016752\n",
      "EM:20,phi_gap:0.163316,pi_gap:0.009414,omega_gap:0.184967\n",
      "EM:21,VI:0,gamma_gap:0.007544\n",
      "EM:21,VI:10,gamma_gap:2.054936\n",
      "EM:21,VI:20,gamma_gap:0.876803\n",
      "EM:21,VI:30,gamma_gap:0.464717\n",
      "EM:21,VI:40,gamma_gap:0.238472\n",
      "EM:21,VI:50,gamma_gap:0.124691\n",
      "EM:21,VI:60,gamma_gap:0.066004\n",
      "EM:21,VI:70,gamma_gap:0.035197\n",
      "EM:21,VI:80,gamma_gap:0.018846\n",
      "EM:21,VI:90,gamma_gap:0.010114\n",
      "EM:21,phi_gap:0.155566,pi_gap:0.009294,omega_gap:0.175134\n",
      "EM:22,VI:0,gamma_gap:0.005435\n",
      "EM:22,VI:10,gamma_gap:2.707106\n",
      "EM:22,VI:20,gamma_gap:1.278573\n",
      "EM:22,VI:30,gamma_gap:0.824057\n",
      "EM:22,VI:40,gamma_gap:0.573870\n",
      "EM:22,VI:50,gamma_gap:0.452470\n",
      "EM:22,VI:60,gamma_gap:0.389966\n",
      "EM:22,VI:70,gamma_gap:0.366908\n",
      "EM:22,VI:80,gamma_gap:0.379302\n",
      "EM:22,VI:90,gamma_gap:0.439010\n",
      "EM:22,phi_gap:0.149414,pi_gap:0.008920,omega_gap:0.167053\n",
      "EM:23,VI:0,gamma_gap:0.599656\n",
      "EM:23,VI:10,gamma_gap:2.923927\n",
      "EM:23,VI:20,gamma_gap:0.570356\n",
      "EM:23,VI:30,gamma_gap:0.183250\n",
      "EM:23,VI:40,gamma_gap:0.071787\n",
      "EM:23,VI:50,gamma_gap:0.028667\n",
      "EM:23,VI:60,gamma_gap:0.011681\n",
      "EM:23,VI:70,gamma_gap:0.004737\n",
      "EM:23,VI:80,gamma_gap:0.001911\n",
      "EM:23,phi_gap:0.145425,pi_gap:0.008326,omega_gap:0.161248\n",
      "EM:24,VI:0,gamma_gap:0.000842\n"
     ]
    },
    {
     "name": "stdout",
     "output_type": "stream",
     "text": [
      "EM:24,phi_gap:0.139283,pi_gap:0.008139,omega_gap:0.153920\n",
      "EM:25,VI:0,gamma_gap:44.912768\n",
      "EM:25,VI:10,gamma_gap:5.946747\n",
      "EM:25,VI:20,gamma_gap:2.184683\n",
      "EM:25,VI:30,gamma_gap:1.202533\n",
      "EM:25,VI:40,gamma_gap:0.900131\n",
      "EM:25,VI:50,gamma_gap:0.853166\n",
      "EM:25,VI:60,gamma_gap:0.925869\n",
      "EM:25,VI:70,gamma_gap:0.106602\n",
      "EM:25,VI:80,gamma_gap:0.013726\n",
      "EM:25,VI:90,gamma_gap:0.003258\n",
      "EM:25,phi_gap:0.131731,pi_gap:0.008059,omega_gap:0.145637\n",
      "EM:26,VI:0,gamma_gap:0.000825\n",
      "EM:26,phi_gap:0.124069,pi_gap:0.007938,omega_gap:0.137580\n",
      "EM:27,VI:0,gamma_gap:33.761500\n",
      "EM:27,VI:10,gamma_gap:3.245395\n",
      "EM:27,VI:20,gamma_gap:1.611843\n",
      "EM:27,VI:30,gamma_gap:0.354230\n",
      "EM:27,VI:40,gamma_gap:0.046523\n",
      "EM:27,VI:50,gamma_gap:0.007451\n",
      "EM:27,VI:60,gamma_gap:0.001370\n",
      "EM:27,phi_gap:0.116987,pi_gap:0.007895,omega_gap:0.130184\n",
      "EM:28,VI:0,gamma_gap:0.000733\n",
      "EM:28,phi_gap:0.110891,pi_gap:0.008017,omega_gap:0.122917\n",
      "EM:29,VI:0,gamma_gap:33.218519\n",
      "EM:29,VI:10,gamma_gap:2.306363\n",
      "EM:29,VI:20,gamma_gap:0.295281\n",
      "EM:29,VI:30,gamma_gap:0.042655\n",
      "EM:29,VI:40,gamma_gap:0.006795\n",
      "EM:29,VI:50,gamma_gap:0.001160\n",
      "EM:29,phi_gap:0.106768,pi_gap:0.008328,omega_gap:0.117578\n",
      "EM:30,VI:0,gamma_gap:0.000819\n",
      "EM:30,phi_gap:0.103473,pi_gap:0.008503,omega_gap:0.112932\n",
      "EM:31,VI:0,gamma_gap:29.482213\n",
      "EM:31,VI:10,gamma_gap:3.311753\n",
      "EM:31,VI:20,gamma_gap:0.610356\n",
      "EM:31,VI:30,gamma_gap:0.140769\n",
      "EM:31,VI:40,gamma_gap:0.037287\n",
      "EM:31,VI:50,gamma_gap:0.010244\n",
      "EM:31,VI:60,gamma_gap:0.002804\n",
      "EM:31,phi_gap:0.098534,pi_gap:0.008269,omega_gap:0.107937\n",
      "EM:32,VI:0,gamma_gap:0.000873\n",
      "EM:32,phi_gap:0.093228,pi_gap:0.007969,omega_gap:0.103246\n",
      "EM:33,VI:0,gamma_gap:32.002145\n",
      "EM:33,VI:10,gamma_gap:4.568510\n",
      "EM:33,VI:20,gamma_gap:1.610583\n",
      "EM:33,VI:30,gamma_gap:1.009568\n",
      "EM:33,VI:40,gamma_gap:0.829157\n",
      "EM:33,VI:50,gamma_gap:0.849068\n",
      "EM:33,VI:60,gamma_gap:0.117030\n",
      "EM:33,VI:70,gamma_gap:0.004575\n",
      "EM:33,phi_gap:0.089659,pi_gap:0.007822,omega_gap:0.100640\n",
      "EM:34,VI:0,gamma_gap:0.000708\n",
      "EM:34,phi_gap:0.087196,pi_gap:0.007777,omega_gap:0.099062\n",
      "EM:35,VI:0,gamma_gap:43.489175\n",
      "EM:35,VI:10,gamma_gap:1.243477\n",
      "EM:35,VI:20,gamma_gap:0.064165\n",
      "EM:35,VI:30,gamma_gap:0.005070\n",
      "EM:35,phi_gap:0.085138,pi_gap:0.007635,omega_gap:0.097220\n",
      "EM:36,VI:0,gamma_gap:0.000641\n",
      "EM:36,phi_gap:0.082801,pi_gap:0.007422,omega_gap:0.094035\n",
      "EM:37,VI:0,gamma_gap:35.511674\n",
      "EM:37,VI:10,gamma_gap:0.936783\n",
      "EM:37,VI:20,gamma_gap:0.058075\n",
      "EM:37,VI:30,gamma_gap:0.005633\n",
      "EM:37,phi_gap:0.080264,pi_gap:0.007254,omega_gap:0.090363\n",
      "EM:38,VI:0,gamma_gap:0.000762\n",
      "EM:38,phi_gap:0.078277,pi_gap:0.007168,omega_gap:0.086970\n",
      "EM:39,VI:0,gamma_gap:27.612332\n",
      "EM:39,VI:10,gamma_gap:0.825533\n",
      "EM:39,VI:20,gamma_gap:0.062051\n",
      "EM:39,VI:30,gamma_gap:0.006640\n",
      "EM:39,phi_gap:0.076565,pi_gap:0.007038,omega_gap:0.083990\n",
      "EM:40,VI:0,gamma_gap:0.000705\n",
      "EM:40,phi_gap:0.074839,pi_gap:0.006846,omega_gap:0.081150\n",
      "EM:41,VI:0,gamma_gap:21.604939\n",
      "EM:41,VI:10,gamma_gap:0.674670\n",
      "EM:41,VI:20,gamma_gap:0.047846\n",
      "EM:41,VI:30,gamma_gap:0.004678\n",
      "EM:41,phi_gap:0.072900,pi_gap:0.006594,omega_gap:0.078582\n",
      "EM:42,VI:0,gamma_gap:0.000718\n",
      "EM:42,phi_gap:0.070929,pi_gap:0.006344,omega_gap:0.076237\n",
      "EM:43,VI:0,gamma_gap:17.390744\n",
      "EM:43,VI:10,gamma_gap:0.453200\n",
      "EM:43,VI:20,gamma_gap:0.023651\n",
      "EM:43,VI:30,gamma_gap:0.001783\n",
      "EM:43,phi_gap:0.069649,pi_gap:0.006236,omega_gap:0.074634\n",
      "EM:44,VI:0,gamma_gap:0.000642\n",
      "EM:44,phi_gap:0.068808,pi_gap:0.006219,omega_gap:0.073035\n",
      "EM:45,VI:0,gamma_gap:15.204495\n",
      "EM:45,VI:10,gamma_gap:0.325427\n",
      "EM:45,VI:20,gamma_gap:0.010929\n",
      "EM:45,phi_gap:0.068145,pi_gap:0.006242,omega_gap:0.071613\n",
      "EM:46,VI:0,gamma_gap:0.000730\n",
      "EM:46,phi_gap:0.067986,pi_gap:0.006369,omega_gap:0.070944\n",
      "EM:47,VI:0,gamma_gap:13.638268\n",
      "EM:47,VI:10,gamma_gap:0.226811\n",
      "EM:47,VI:20,gamma_gap:0.005661\n",
      "EM:47,phi_gap:0.067950,pi_gap:0.006493,omega_gap:0.070958\n",
      "EM:48,VI:0,gamma_gap:0.000524\n",
      "EM:48,phi_gap:0.066131,pi_gap:0.006388,omega_gap:0.070059\n",
      "EM:49,VI:0,gamma_gap:11.970973\n",
      "EM:49,VI:10,gamma_gap:0.169328\n",
      "EM:49,VI:20,gamma_gap:0.003190\n",
      "EM:49,phi_gap:0.062718,pi_gap:0.006106,omega_gap:0.068019\n",
      "FINAL:VI:0,gamma_gap:0.000480\n",
      "FINAL:VI:10,gamma_gap:0.093767\n",
      "FINAL:VI:20,gamma_gap:0.001503\n",
      "FINAL:VI:30,gamma_gap:0.000029\n",
      "FINAL:VI:40,gamma_gap:0.000001\n",
      "FINAL:VI:50,gamma_gap:0.000000\n",
      "FINAL:VI:60,gamma_gap:0.000000\n",
      "FINAL:VI:70,gamma_gap:0.000000\n",
      "FINAL:VI:80,gamma_gap:0.000000\n",
      "FINAL:VI:90,gamma_gap:0.000000\n"
     ]
    }
   ],
   "source": [
    "theta,omega,phi,pi=bp.start(K,initialize,alpha,n_iter_EM,n_iter_VI,gamma_max_gap,phi_max_gap,gamma_default,int_range,beta,verbose)"
   ]
  },
  {
   "cell_type": "code",
   "execution_count": 336,
   "metadata": {},
   "outputs": [
    {
     "data": {
      "text/plain": [
       "array([[0.000003, 0.000003, 0.000003, 0.000003, 0.000003],\n",
       "       [0.000003, 0.097430, 0.000003, 0.000003, 0.000003],\n",
       "       [0.150482, 0.000003, 0.280942, 0.000003, 0.000003],\n",
       "       [0.000003, 0.000003, 0.000003, 0.333749, 0.000003],\n",
       "       [0.000003, 0.018301, 0.000003, 0.000003, 0.119036]])"
      ]
     },
     "execution_count": 336,
     "metadata": {},
     "output_type": "execute_result"
    }
   ],
   "source": [
    "theta "
   ]
  },
  {
   "cell_type": "code",
   "execution_count": 337,
   "metadata": {},
   "outputs": [
    {
     "data": {
      "text/plain": [
       "array([[0.200000, 0.200000, 0.200000, 0.200000, 0.200000],\n",
       "       [0.000032, 0.999872, 0.000032, 0.000032, 0.000032],\n",
       "       [0.348795, 0.000007, 0.651184, 0.000007, 0.000007],\n",
       "       [0.000009, 0.000009, 0.000009, 0.999963, 0.000009],\n",
       "       [0.000023, 0.133250, 0.000023, 0.000023, 0.866683]])"
      ]
     },
     "execution_count": 337,
     "metadata": {},
     "output_type": "execute_result"
    }
   ],
   "source": [
    "get_normalized_theta(theta,method='row')"
   ]
  },
  {
   "cell_type": "code",
   "execution_count": 338,
   "metadata": {},
   "outputs": [
    {
     "data": {
      "text/plain": [
       "[[('Neural_Networks', 0.03260375622967687),\n",
       "  ('Neural_Networks', 0.012340478142190725),\n",
       "  ('Neural_Networks', 0.01168114103436441),\n",
       "  ('Neural_Networks', 0.009537189815747499),\n",
       "  ('Neural_Networks', 0.008199598623657548),\n",
       "  ('Neural_Networks', 0.007626907006225341),\n",
       "  ('Neural_Networks', 0.0069699467765066215),\n",
       "  ('Neural_Networks', 0.006851448329713696),\n",
       "  ('Neural_Networks', 0.006845421705998123),\n",
       "  ('Neural_Networks', 0.006749287351899162)],\n",
       " [('Neural_Networks', 0.011766161006209246),\n",
       "  ('Rule_Learning', 0.011595509033208594),\n",
       "  ('Theory', 0.010709404809212755),\n",
       "  ('Neural_Networks', 0.009486102575617042),\n",
       "  ('Theory', 0.008917909833935176),\n",
       "  ('Rule_Learning', 0.008847045813799708),\n",
       "  ('Rule_Learning', 0.008317264180080094),\n",
       "  ('Theory', 0.007780041877445196),\n",
       "  ('Theory', 0.007699576826317284),\n",
       "  ('Neural_Networks', 0.006564629599828042)],\n",
       " [('Theory', 0.02537454615016205),\n",
       "  ('Theory', 0.014100719697744464),\n",
       "  ('Neural_Networks', 0.011968288536771532),\n",
       "  ('Theory', 0.011513475518989602),\n",
       "  ('Theory', 0.011185293253793),\n",
       "  ('Neural_Networks', 0.01022354366057424),\n",
       "  ('Neural_Networks', 0.009612025715508772),\n",
       "  ('Neural_Networks', 0.00923775733670926),\n",
       "  ('Rule_Learning', 0.0068096993551500515),\n",
       "  ('Theory', 0.0064773831460673385)],\n",
       " [('Genetic_Algorithms', 0.10222125638731978),\n",
       "  ('Rule_Learning', 0.012952274048735732),\n",
       "  ('Genetic_Algorithms', 0.012196056849024754),\n",
       "  ('Genetic_Algorithms', 0.01023504115483046),\n",
       "  ('Genetic_Algorithms', 0.010120995991405113),\n",
       "  ('Genetic_Algorithms', 0.009921300916862481),\n",
       "  ('Genetic_Algorithms', 0.009640021608487804),\n",
       "  ('Genetic_Algorithms', 0.008141641123898837),\n",
       "  ('Neural_Networks', 0.007613819812370317),\n",
       "  ('Genetic_Algorithms', 0.0061388857322656094)],\n",
       " [('Theory', 0.015985127579096876),\n",
       "  ('Theory', 0.013377232081892303),\n",
       "  ('Theory', 0.011995171337147295),\n",
       "  ('Theory', 0.011983442183291637),\n",
       "  ('Theory', 0.011701373709183324),\n",
       "  ('Theory', 0.011323901790902995),\n",
       "  ('Theory', 0.011102889743543523),\n",
       "  ('Theory', 0.011062954745130459),\n",
       "  ('Theory', 0.010676404047466484),\n",
       "  ('Theory', 0.010527560633809397)]]"
      ]
     },
     "execution_count": 338,
     "metadata": {},
     "output_type": "execute_result"
    }
   ],
   "source": [
    "get_top_docs(omega,labels_sub)"
   ]
  },
  {
   "cell_type": "code",
   "execution_count": 339,
   "metadata": {
    "scrolled": true
   },
   "outputs": [
    {
     "data": {
      "image/png": "[encoded data removed]",
      "text/plain": [
       "<Figure size 360x288 with 2 Axes>"
      ]
     },
     "metadata": {
      "needs_background": "light"
     },
     "output_type": "display_data"
    }
   ],
   "source": [
    "draw_image_matrix(omega,labels_sub,(5,4))"
   ]
  },
  {
   "cell_type": "code",
   "execution_count": 325,
   "metadata": {},
   "outputs": [
    {
     "data": {
      "text/plain": [
       "array([[0.168109, 0.000003, 0.000003, 0.000003, 0.000003, 0.000003],\n",
       "       [0.000003, 0.097374, 0.000003, 0.000003, 0.000003, 0.000003],\n",
       "       [0.000003, 0.000003, 0.000003, 0.000003, 0.000003, 0.000003],\n",
       "       [0.000003, 0.000003, 0.000003, 0.104161, 0.000003, 0.000003],\n",
       "       [0.000003, 0.000003, 0.000003, 0.000003, 0.327491, 0.000003],\n",
       "       [0.000003, 0.000003, 0.000003, 0.000003, 0.000003, 0.302756]])"
      ]
     },
     "execution_count": 325,
     "metadata": {},
     "output_type": "execute_result"
    }
   ],
   "source": [
    "theta "
   ]
  },
  {
   "cell_type": "markdown",
   "metadata": {},
   "source": [
    "# gibbs sampling to solve theta "
   ]
  },
  {
   "cell_type": "code",
   "execution_count": 89,
   "metadata": {},
   "outputs": [],
   "source": [
    "G=G_sub.copy()"
   ]
  },
  {
   "cell_type": "code",
   "execution_count": 90,
   "metadata": {},
   "outputs": [],
   "source": [
    "# input transformation\n",
    "SS=[]\n",
    "RS=[]\n",
    "ZS=[]\n",
    "nz=np.zeros(K**2)\n",
    "i=0\n",
    "for e in G.edges:\n",
    "    SS.append(e[0])\n",
    "    RS.append(e[1])\n",
    "    z_new=i%K**2\n",
    "    ZS.append(z_new)\n",
    "    nz[z_new]+=1\n",
    "    i+=1\n",
    "SS=np.array(SS,dtype=np.int)\n",
    "RS=np.array(RS,dtype=np.int)\n",
    "ZS=np.array(ZS,dtype=np.int)\n",
    "\n",
    "\n",
    "# initiate\n",
    "D=len(G)\n",
    "L=len(SS)\n",
    "\n",
    "# helpers\n",
    "S_ids={}\n",
    "for idx,s in enumerate(SS):\n",
    "    if s in S_ids:\n",
    "        S_ids[s].append(idx)\n",
    "    else:\n",
    "        S_ids[s]=[idx]\n",
    "        \n",
    "R_ids={}\n",
    "for idx,r in enumerate(RS):\n",
    "    if r in R_ids:\n",
    "        R_ids[r].append(idx)\n",
    "    else:\n",
    "        R_ids[r]=[idx]"
   ]
  },
  {
   "cell_type": "code",
   "execution_count": 91,
   "metadata": {},
   "outputs": [],
   "source": [
    "# runtime parameters\n",
    "n_iter_gib=100"
   ]
  },
  {
   "cell_type": "code",
   "execution_count": 92,
   "metadata": {},
   "outputs": [
    {
     "name": "stdout",
     "output_type": "stream",
     "text": [
      "iter:0\n",
      "iter:1\n",
      "iter:2\n",
      "iter:3\n",
      "iter:4\n",
      "iter:5\n",
      "iter:6\n",
      "iter:7\n",
      "iter:8\n",
      "iter:9\n",
      "iter:10\n",
      "iter:11\n",
      "iter:12\n",
      "iter:13\n",
      "iter:14\n",
      "iter:15\n",
      "iter:16\n",
      "iter:17\n",
      "iter:18\n",
      "iter:19\n",
      "iter:20\n",
      "iter:21\n",
      "iter:22\n",
      "iter:23\n",
      "iter:24\n",
      "iter:25\n",
      "iter:26\n",
      "iter:27\n",
      "iter:28\n",
      "iter:29\n",
      "iter:30\n",
      "iter:31\n",
      "iter:32\n",
      "iter:33\n",
      "iter:34\n",
      "iter:35\n",
      "iter:36\n",
      "iter:37\n",
      "iter:38\n",
      "iter:39\n",
      "iter:40\n",
      "iter:41\n",
      "iter:42\n",
      "iter:43\n",
      "iter:44\n",
      "iter:45\n",
      "iter:46\n",
      "iter:47\n",
      "iter:48\n",
      "iter:49\n",
      "iter:50\n",
      "iter:51\n",
      "iter:52\n",
      "iter:53\n",
      "iter:54\n",
      "iter:55\n",
      "iter:56\n",
      "iter:57\n",
      "iter:58\n",
      "iter:59\n",
      "iter:60\n",
      "iter:61\n",
      "iter:62\n",
      "iter:63\n",
      "iter:64\n",
      "iter:65\n",
      "iter:66\n",
      "iter:67\n",
      "iter:68\n",
      "iter:69\n",
      "iter:70\n",
      "iter:71\n",
      "iter:72\n",
      "iter:73\n",
      "iter:74\n",
      "iter:75\n",
      "iter:76\n",
      "iter:77\n",
      "iter:78\n",
      "iter:79\n",
      "iter:80\n",
      "iter:81\n",
      "iter:82\n",
      "iter:83\n",
      "iter:84\n",
      "iter:85\n",
      "iter:86\n",
      "iter:87\n",
      "iter:88\n",
      "iter:89\n",
      "iter:90\n",
      "iter:91\n",
      "iter:92\n",
      "iter:93\n",
      "iter:94\n",
      "iter:95\n",
      "iter:96\n",
      "iter:97\n",
      "iter:98\n",
      "iter:99\n"
     ]
    }
   ],
   "source": [
    "# gibbs sampling \n",
    "for it_gib in range(n_iter_gib):\n",
    "    for l in range(L):\n",
    "        z=ZS[l]\n",
    "        s=SS[l]\n",
    "        r=RS[l]\n",
    "        \n",
    "        nz[z]-=1 \n",
    "        \n",
    "        dist=(alpha+nz)*np.repeat(omega[:,s],K)*np.tile(omega[:,r],K)\n",
    "        dist=dist.astype(np.float64)\n",
    "        #print(alpha+nz)\n",
    "        #print(omega[:,s])\n",
    "        #print(omega[:,r])\n",
    "        #print(dist)\n",
    "        dist_norm=dist/dist.sum()\n",
    "        #print(dist_norm)\n",
    "        #z_new=np.nonzero(stats.multinomial.rvs(1,dist_norm))[0].item() \n",
    "        z_new=np.nonzero(np.random.multinomial(1,dist_norm))[0].item()\n",
    "        \n",
    "        ZS[l]=z_new\n",
    "        nz[z_new]+=1 \n",
    "    \n",
    "    print('iter:%d'%(it_gib))\n",
    "\n",
    "theta_gibbs=(alpha+nz)/(K**2*alpha+nz.sum())\n",
    "        "
   ]
  },
  {
   "cell_type": "code",
   "execution_count": 93,
   "metadata": {},
   "outputs": [
    {
     "data": {
      "text/plain": [
       "array([952.000000000000000, 0.000000000000000, 0.000000000000000,\n",
       "       0.000000000000000, 1621.000000000000000, 0.000000000000000,\n",
       "       0.000000000000000, 0.000000000000000, 292.000000000000000])"
      ]
     },
     "execution_count": 93,
     "metadata": {},
     "output_type": "execute_result"
    }
   ],
   "source": [
    "nz "
   ]
  },
  {
   "cell_type": "code",
   "execution_count": 94,
   "metadata": {},
   "outputs": [
    {
     "data": {
      "text/plain": [
       "array([0.332279265223780, 0.000003490291753, 0.000003490291753,\n",
       "       0.000003490291753, 0.565779783532105, 0.000003490291753,\n",
       "       0.000003490291753, 0.000003490291753, 0.101920009493594])"
      ]
     },
     "execution_count": 94,
     "metadata": {},
     "output_type": "execute_result"
    }
   ],
   "source": [
    "theta_gibbs"
   ]
  },
  {
   "cell_type": "code",
   "execution_count": 86,
   "metadata": {},
   "outputs": [
    {
     "data": {
      "text/plain": [
       "array([[0.331087326836267, 0.000003490291753, 0.000003490291753],\n",
       "       [0.000003490291753, 0.569274132747467, 0.000003490291753],\n",
       "       [0.000003490291753, 0.000003490291753, 0.099617598665744]])"
      ]
     },
     "execution_count": 86,
     "metadata": {},
     "output_type": "execute_result"
    }
   ],
   "source": [
    "theta "
   ]
  },
  {
   "cell_type": "code",
   "execution_count": 136,
   "metadata": {},
   "outputs": [
    {
     "data": {
      "text/plain": [
       "[[('Genetic_Algorithms', 0.0172769749588337),\n",
       "  ('Genetic_Algorithms', 0.014073070526238282),\n",
       "  ('Genetic_Algorithms', 0.014070868778763831),\n",
       "  ('Genetic_Algorithms', 0.013594590012611157),\n",
       "  ('Genetic_Algorithms', 0.012525801496188059),\n",
       "  ('Genetic_Algorithms', 0.011395406530259295),\n",
       "  ('Genetic_Algorithms', 0.008397081740683423),\n",
       "  ('Genetic_Algorithms', 0.008182590656802182),\n",
       "  ('Genetic_Algorithms', 0.007924552863629393),\n",
       "  ('Genetic_Algorithms', 0.007744011787501097),\n",
       "  ('Genetic_Algorithms', 0.007436753038079015),\n",
       "  ('Genetic_Algorithms', 0.006560708627585761),\n",
       "  ('Genetic_Algorithms', 0.006497125378195877),\n",
       "  ('Genetic_Algorithms', 0.006445011203045258),\n",
       "  ('Genetic_Algorithms', 0.00640747096556822),\n",
       "  ('Genetic_Algorithms', 0.006392802350459848),\n",
       "  ('Neural_Networks', 0.006217585322207902),\n",
       "  ('Genetic_Algorithms', 0.006118666896999436),\n",
       "  ('Genetic_Algorithms', 0.0057114523972802795),\n",
       "  ('Genetic_Algorithms', 0.005683611747782757)],\n",
       " [('Neural_Networks', 0.014427251293139515),\n",
       "  ('Theory', 0.011286137998806787),\n",
       "  ('Theory', 0.008825371752672482),\n",
       "  ('Neural_Networks', 0.007587666476779682),\n",
       "  ('Theory', 0.00707693069660728),\n",
       "  ('Neural_Networks', 0.005770423748965644),\n",
       "  ('Neural_Networks', 0.005548569054028826),\n",
       "  ('Theory', 0.005447725381450576),\n",
       "  ('Neural_Networks', 0.005303922419698046),\n",
       "  ('Neural_Networks', 0.005239376063907432),\n",
       "  ('Neural_Networks', 0.004897409901035062),\n",
       "  ('Neural_Networks', 0.004678642224264165),\n",
       "  ('Neural_Networks', 0.004661389319022436),\n",
       "  ('Neural_Networks', 0.004515410219148179),\n",
       "  ('Neural_Networks', 0.0044427881205046215),\n",
       "  ('Theory', 0.0043700425873169696),\n",
       "  ('Neural_Networks', 0.0038746403898078916),\n",
       "  ('Neural_Networks', 0.0037770752015294003),\n",
       "  ('Theory', 0.003669325094786914),\n",
       "  ('Theory', 0.0035714030060597247)],\n",
       " [('Genetic_Algorithms', 0.22320246519164724),\n",
       "  ('Theory', 0.013690301241508518),\n",
       "  ('Theory', 0.01359379287775827),\n",
       "  ('Theory', 0.013164297043683635),\n",
       "  ('Theory', 0.01007056125459193),\n",
       "  ('Theory', 0.009887635537394112),\n",
       "  ('Theory', 0.009822555680123315),\n",
       "  ('Theory', 0.009441185246837708),\n",
       "  ('Theory', 0.009275630455485311),\n",
       "  ('Theory', 0.008944880818355688),\n",
       "  ('Theory', 0.00862756406593189),\n",
       "  ('Theory', 0.008608901459110608),\n",
       "  ('Theory', 0.008481986540105435),\n",
       "  ('Theory', 0.008429244601952606),\n",
       "  ('Theory', 0.008413306668657337),\n",
       "  ('Theory', 0.008095138372147998),\n",
       "  ('Theory', 0.008088263884288249),\n",
       "  ('Theory', 0.008026003631102811),\n",
       "  ('Theory', 0.007992588663049143),\n",
       "  ('Theory', 0.007944732646339346)]]"
      ]
     },
     "execution_count": 136,
     "metadata": {},
     "output_type": "execute_result"
    }
   ],
   "source": [
    "get_top_docs(omega,labels_sub,top=20)"
   ]
  },
  {
   "cell_type": "code",
   "execution_count": 98,
   "metadata": {},
   "outputs": [
    {
     "data": {
      "image/png": "[encoded data removed]",
      "text/plain": [
       "<Figure size 360x288 with 2 Axes>"
      ]
     },
     "metadata": {
      "needs_background": "light"
     },
     "output_type": "display_data"
    }
   ],
   "source": [
    "draw_image_matrix(omega,labels_sub,(5,4))"
   ]
  },
  {
   "cell_type": "code",
   "execution_count": 130,
   "metadata": {},
   "outputs": [],
   "source": [
    "np.set_printoptions(formatter={'float': lambda x: \"{0:0.6f}\".format(x)})"
   ]
  },
  {
   "cell_type": "code",
   "execution_count": 99,
   "metadata": {},
   "outputs": [],
   "source": [
    "label_id_dict={}\n",
    "for i,l in enumerate(labels_sub):\n",
    "    if l in label_id_dict:\n",
    "        label_id_dict[l].append(i)\n",
    "    else:\n",
    "        label_id_dict[l]=[i]"
   ]
  },
  {
   "cell_type": "code",
   "execution_count": 257,
   "metadata": {},
   "outputs": [],
   "source": [
    "label='Genetic_Algorithms'"
   ]
  },
  {
   "cell_type": "code",
   "execution_count": 258,
   "metadata": {},
   "outputs": [],
   "source": [
    "result=np.zeros(len(G))\n",
    "for e in G.edges:\n",
    "    if e[0] in label_id_dict[label] and not e[1] in label_id_dict[label]:\n",
    "        result[e[1]]+=1\n",
    "    elif e[1] in label_id_dict[label] and not e[0] in label_id_dict[label]:\n",
    "        result[e[0]]+=1 \n",
    "    "
   ]
  },
  {
   "cell_type": "code",
   "execution_count": 259,
   "metadata": {},
   "outputs": [],
   "source": [
    "sorted_idx=np.argsort(-result)"
   ]
  },
  {
   "cell_type": "code",
   "execution_count": 260,
   "metadata": {
    "scrolled": true
   },
   "outputs": [
    {
     "data": {
      "text/plain": [
       "array([7.000000, 3.000000, 3.000000, ..., 0.000000, 0.000000, 0.000000])"
      ]
     },
     "execution_count": 260,
     "metadata": {},
     "output_type": "execute_result"
    }
   ],
   "source": [
    "result[sorted_idx]"
   ]
  },
  {
   "cell_type": "code",
   "execution_count": 261,
   "metadata": {},
   "outputs": [
    {
     "data": {
      "text/plain": [
       "54"
      ]
     },
     "execution_count": 261,
     "metadata": {},
     "output_type": "execute_result"
    }
   ],
   "source": [
    "len(np.where(result>0)[0]) "
   ]
  },
  {
   "cell_type": "code",
   "execution_count": 262,
   "metadata": {},
   "outputs": [
    {
     "data": {
      "text/plain": [
       "array([ 382,   17, 1007, ...,  518,  529, 1545], dtype=int64)"
      ]
     },
     "execution_count": 262,
     "metadata": {},
     "output_type": "execute_result"
    }
   ],
   "source": [
    "sorted_idx"
   ]
  },
  {
   "cell_type": "code",
   "execution_count": 263,
   "metadata": {},
   "outputs": [
    {
     "data": {
      "text/plain": [
       "array(['Neural_Networks', 'Theory', 'Neural_Networks', 'Theory',\n",
       "       'Neural_Networks', 'Neural_Networks', 'Theory', 'Theory',\n",
       "       'Neural_Networks', 'Neural_Networks', 'Neural_Networks',\n",
       "       'Neural_Networks', 'Neural_Networks', 'Neural_Networks', 'Theory'],\n",
       "      dtype='<U22')"
      ]
     },
     "execution_count": 263,
     "metadata": {},
     "output_type": "execute_result"
    }
   ],
   "source": [
    "labels_sub[sorted_idx][:15]"
   ]
  },
  {
   "cell_type": "code",
   "execution_count": 264,
   "metadata": {},
   "outputs": [
    {
     "data": {
      "text/plain": [
       "2.0"
      ]
     },
     "execution_count": 264,
     "metadata": {},
     "output_type": "execute_result"
    }
   ],
   "source": [
    "result[sorted_idx[10]]"
   ]
  },
  {
   "cell_type": "code",
   "execution_count": 265,
   "metadata": {},
   "outputs": [
    {
     "data": {
      "text/plain": [
       "array([0.002291, 0.001948, 0.000337])"
      ]
     },
     "execution_count": 265,
     "metadata": {},
     "output_type": "execute_result"
    }
   ],
   "source": [
    "omega[:,sorted_idx[105]]"
   ]
  },
  {
   "cell_type": "code",
   "execution_count": 198,
   "metadata": {},
   "outputs": [
    {
     "data": {
      "text/plain": [
       "897"
      ]
     },
     "execution_count": 198,
     "metadata": {},
     "output_type": "execute_result"
    }
   ],
   "source": [
    "sorted_idx[10]"
   ]
  },
  {
   "cell_type": "code",
   "execution_count": 196,
   "metadata": {},
   "outputs": [
    {
     "data": {
      "text/plain": [
       "'Theory'"
      ]
     },
     "execution_count": 196,
     "metadata": {},
     "output_type": "execute_result"
    }
   ],
   "source": [
    "labels_sub[sorted_idx[10]]"
   ]
  },
  {
   "cell_type": "code",
   "execution_count": 195,
   "metadata": {},
   "outputs": [
    {
     "data": {
      "text/plain": [
       "array(['mackay', 'infer', 'paramet', 'implement', 'bayesian', 'bug',\n",
       "       'probabilist', 'nois', 'regress', 'varianc', 'new', 'review',\n",
       "       'distribut', 'network', 'make', 'popul', 'linear', 'fi', 'basi',\n",
       "       'gaussian', 'hyperparamet', 'ftp', 'free', 'rel', 'depend', 'gibb',\n",
       "       'techniqu', 'approxim', 'possibl', 'al'], dtype='<U15')"
      ]
     },
     "execution_count": 195,
     "metadata": {},
     "output_type": "execute_result"
    }
   ],
   "source": [
    "tokens[np.argsort(-texts_sub[sorted_idx[10]])[:30]] "
   ]
  },
  {
   "cell_type": "code",
   "execution_count": 183,
   "metadata": {},
   "outputs": [],
   "source": [
    "n=0\n",
    "for i in range(120):\n",
    "     if omega[1,sorted_idx[i]]>0.0001:\n",
    "            n+=1"
   ]
  },
  {
   "cell_type": "code",
   "execution_count": 184,
   "metadata": {},
   "outputs": [
    {
     "data": {
      "text/plain": [
       "98"
      ]
     },
     "execution_count": 184,
     "metadata": {},
     "output_type": "execute_result"
    }
   ],
   "source": [
    "n "
   ]
  },
  {
   "cell_type": "code",
   "execution_count": 155,
   "metadata": {},
   "outputs": [
    {
     "data": {
      "text/plain": [
       "1546"
      ]
     },
     "execution_count": 155,
     "metadata": {},
     "output_type": "execute_result"
    }
   ],
   "source": [
    "len(sorted_idx)"
   ]
  },
  {
   "cell_type": "code",
   "execution_count": 180,
   "metadata": {},
   "outputs": [],
   "source": [
    "n=0\n",
    "for i in range(120):\n",
    "     if omega[:,label_id_dict['Theory'][i]][1]>0.0001:\n",
    "            n+=1"
   ]
  },
  {
   "cell_type": "code",
   "execution_count": 181,
   "metadata": {},
   "outputs": [
    {
     "data": {
      "text/plain": [
       "112"
      ]
     },
     "execution_count": 181,
     "metadata": {},
     "output_type": "execute_result"
    }
   ],
   "source": [
    "n "
   ]
  },
  {
   "cell_type": "code",
   "execution_count": 248,
   "metadata": {},
   "outputs": [],
   "source": [
    "part_a=sorted_idx[:130]\n",
    "part_b=list(set(label_id_dict['Theory']+label_id_dict['Genetic_Algorithms'])-set(part_a)) \n",
    "\n",
    "part_a_value=omega[1,part_a]\n",
    "part_b_value=omega[1,part_b]\n",
    "\n",
    "a_b=np.concatenate((part_a_value,part_b_value))[:,np.newaxis] "
   ]
  },
  {
   "cell_type": "code",
   "execution_count": 227,
   "metadata": {},
   "outputs": [
    {
     "data": {
      "text/plain": [
       "300"
      ]
     },
     "execution_count": 227,
     "metadata": {},
     "output_type": "execute_result"
    }
   ],
   "source": [
    "len(part_a)"
   ]
  },
  {
   "cell_type": "code",
   "execution_count": null,
   "metadata": {},
   "outputs": [],
   "source": []
  },
  {
   "cell_type": "code",
   "execution_count": 237,
   "metadata": {
    "scrolled": false
   },
   "outputs": [
    {
     "data": {
      "text/plain": [
       "0.0007151235904255456"
      ]
     },
     "execution_count": 237,
     "metadata": {},
     "output_type": "execute_result"
    }
   ],
   "source": [
    "np.mean(part_a_value) "
   ]
  },
  {
   "cell_type": "code",
   "execution_count": 232,
   "metadata": {},
   "outputs": [
    {
     "data": {
      "text/plain": [
       "0.0003852998311252873"
      ]
     },
     "execution_count": 232,
     "metadata": {},
     "output_type": "execute_result"
    }
   ],
   "source": [
    "np.mean(part_b_value)"
   ]
  },
  {
   "cell_type": "code",
   "execution_count": 266,
   "metadata": {
    "scrolled": true
   },
   "outputs": [
    {
     "data": {
      "text/plain": [
       "0.0004264476979492316"
      ]
     },
     "execution_count": 266,
     "metadata": {},
     "output_type": "execute_result"
    }
   ],
   "source": [
    "np.mean(omega[0,sorted_idx[:50]])"
   ]
  },
  {
   "cell_type": "code",
   "execution_count": 267,
   "metadata": {},
   "outputs": [
    {
     "data": {
      "text/plain": [
       "0.0019322976502998334"
      ]
     },
     "execution_count": 267,
     "metadata": {},
     "output_type": "execute_result"
    }
   ],
   "source": [
    "np.mean(omega[0,label_id_dict['Genetic_Algorithms']]) "
   ]
  },
  {
   "cell_type": "code",
   "execution_count": 269,
   "metadata": {
    "scrolled": true
   },
   "outputs": [
    {
     "data": {
      "text/plain": [
       "0.00017515161372729364"
      ]
     },
     "execution_count": 269,
     "metadata": {},
     "output_type": "execute_result"
    }
   ],
   "source": [
    "np.mean(omega[0,label_id_dict['Theory']+label_id_dict['Neural_Networks']]) "
   ]
  },
  {
   "cell_type": "code",
   "execution_count": 281,
   "metadata": {},
   "outputs": [],
   "source": [
    "label='Genetic_Algorithms'\n",
    "label_idx=0\n",
    "top=200"
   ]
  },
  {
   "cell_type": "code",
   "execution_count": 282,
   "metadata": {},
   "outputs": [],
   "source": [
    "temp_set=set(np.argsort(-omega[label_idx,:])[:top])\n",
    "target_set=set.intersection(temp_set,set(label_id_dict[label]))\n",
    "link_set=temp_set-target_set"
   ]
  },
  {
   "cell_type": "code",
   "execution_count": 287,
   "metadata": {},
   "outputs": [],
   "source": [
    "result=np.zeros(len(G))\n",
    "for e in G.edges:\n",
    "    if e[0] in target_set and not e[1] in target_set:\n",
    "        result[e[1]]+=1\n",
    "    elif e[1] in target_set and not e[0] in target_set:\n",
    "        result[e[0]]+=1 "
   ]
  },
  {
   "cell_type": "code",
   "execution_count": 288,
   "metadata": {},
   "outputs": [
    {
     "data": {
      "text/plain": [
       "24"
      ]
     },
     "execution_count": 288,
     "metadata": {},
     "output_type": "execute_result"
    }
   ],
   "source": [
    "len(link_set)"
   ]
  },
  {
   "cell_type": "code",
   "execution_count": 289,
   "metadata": {},
   "outputs": [
    {
     "data": {
      "text/plain": [
       "array([0.000000, 0.000000, 0.000000, 2.000000, 0.000000, 0.000000,\n",
       "       0.000000, 0.000000, 0.000000, 0.000000, 0.000000, 0.000000,\n",
       "       0.000000, 0.000000, 0.000000, 0.000000, 0.000000, 0.000000,\n",
       "       0.000000, 0.000000, 0.000000, 0.000000, 0.000000, 0.000000])"
      ]
     },
     "execution_count": 289,
     "metadata": {},
     "output_type": "execute_result"
    }
   ],
   "source": [
    "result[list(link_set)]"
   ]
  },
  {
   "cell_type": "code",
   "execution_count": 286,
   "metadata": {},
   "outputs": [
    {
     "data": {
      "text/plain": [
       "415"
      ]
     },
     "execution_count": 286,
     "metadata": {},
     "output_type": "execute_result"
    }
   ],
   "source": [
    "len(label_id_dict[label])"
   ]
  },
  {
   "cell_type": "code",
   "execution_count": 290,
   "metadata": {},
   "outputs": [
    {
     "data": {
      "image/png": "[encoded data removed]",
      "text/plain": [
       "<Figure size 360x288 with 2 Axes>"
      ]
     },
     "metadata": {
      "needs_background": "light"
     },
     "output_type": "display_data"
    }
   ],
   "source": [
    "draw_image_matrix(omega,labels_sub,(5,4))"
   ]
  },
  {
   "cell_type": "code",
   "execution_count": 293,
   "metadata": {},
   "outputs": [
    {
     "data": {
      "text/plain": [
       "array([0.001710, 0.002198, 0.001964, 0.002054, 0.002101, 0.002027,\n",
       "       0.002353, 0.003272, 0.003176, 0.001728, 0.002307, 0.002839,\n",
       "       0.001771, 0.006218, 0.002104, 0.001862, 0.001792, 0.003293,\n",
       "       0.002769, 0.001869, 0.002204, 0.002418, 0.001970, 0.002291])"
      ]
     },
     "execution_count": 293,
     "metadata": {},
     "output_type": "execute_result"
    }
   ],
   "source": [
    "omega[label_idx,list(link_set)]"
   ]
  },
  {
   "cell_type": "code",
   "execution_count": 291,
   "metadata": {
    "scrolled": true
   },
   "outputs": [
    {
     "data": {
      "text/plain": [
       "{17,\n",
       " 129,\n",
       " 164,\n",
       " 247,\n",
       " 252,\n",
       " 354,\n",
       " 430,\n",
       " 433,\n",
       " 458,\n",
       " 523,\n",
       " 585,\n",
       " 682,\n",
       " 695,\n",
       " 744,\n",
       " 748,\n",
       " 761,\n",
       " 762,\n",
       " 763,\n",
       " 857,\n",
       " 942,\n",
       " 1021,\n",
       " 1322,\n",
       " 1401,\n",
       " 1544}"
      ]
     },
     "execution_count": 291,
     "metadata": {},
     "output_type": "execute_result"
    }
   ],
   "source": [
    "link_set"
   ]
  },
  {
   "cell_type": "code",
   "execution_count": null,
   "metadata": {},
   "outputs": [],
   "source": []
  },
  {
   "cell_type": "code",
   "execution_count": 299,
   "metadata": {},
   "outputs": [
    {
     "data": {
      "text/plain": [
       "0.0"
      ]
     },
     "execution_count": 299,
     "metadata": {},
     "output_type": "execute_result"
    }
   ],
   "source": [
    "result[164]"
   ]
  },
  {
   "cell_type": "code",
   "execution_count": 300,
   "metadata": {},
   "outputs": [
    {
     "data": {
      "text/plain": [
       "array(['game', 'strategi', 'consid', 'competit', 'player', 'approxim',\n",
       "       'oppon', 'domain', 'number', 'random', 'reinforc', 'allow',\n",
       "       'definit', 'time', 'paper', 'samuel', 'work', 'exist',\n",
       "       'counterexampl', 'inclus', 'polynomi', 'differenti', 'reli',\n",
       "       'control', 'design', 'sort', 'main', 'minimax', 'evolv', 'given'],\n",
       "      dtype='<U15')"
      ]
     },
     "execution_count": 300,
     "metadata": {},
     "output_type": "execute_result"
    }
   ],
   "source": [
    "tokens[np.argsort(-texts_sub[17])[:30]] "
   ]
  },
  {
   "cell_type": "code",
   "execution_count": 301,
   "metadata": {},
   "outputs": [
    {
     "data": {
      "text/plain": [
       "'Theory'"
      ]
     },
     "execution_count": 301,
     "metadata": {},
     "output_type": "execute_result"
    }
   ],
   "source": [
    "labels_sub[17]"
   ]
  },
  {
   "cell_type": "code",
   "execution_count": null,
   "metadata": {},
   "outputs": [],
   "source": []
  }
 ],
 "metadata": {
  "kernelspec": {
   "display_name": "Python 3",
   "language": "python",
   "name": "python3"
  },
  "language_info": {
   "codemirror_mode": {
    "name": "ipython",
    "version": 3
   },
   "file_extension": ".py",
   "mimetype": "text/x-python",
   "name": "python",
   "nbconvert_exporter": "python",
   "pygments_lexer": "ipython3",
   "version": "3.7.0"
  }
 },
 "nbformat": 4,
 "nbformat_minor": 4
}
