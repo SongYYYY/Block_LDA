{
 "cells": [
  {
   "cell_type": "code",
   "execution_count": 28,
   "metadata": {},
   "outputs": [],
   "source": [
    "import numpy as np\n",
    "import scipy.stats as stats\n",
    "import matplotlib.pyplot as plt \n",
    "import random \n",
    "import networkx as nx \n",
    "import itertools \n",
    "import pickle \n",
    "from scipy.special import digamma\n",
    "import timeit\n",
    "import seaborn as sns \n",
    "import sklearn.metrics as metrics \n",
    "from Block_PLSA.utils_beta import draw_image_matrix,get_normalized_theta,get_sub_input,get_top_docs,get_top_tokens"
   ]
  },
  {
   "cell_type": "markdown",
   "metadata": {},
   "source": [
    "# load data"
   ]
  },
  {
   "cell_type": "code",
   "execution_count": 2,
   "metadata": {},
   "outputs": [],
   "source": [
    "# cora dataset\n",
    "G_cora=nx.read_adjlist('data/Cora_enrich/idx_adjlist.txt',nodetype=int,create_using=nx.DiGraph)\n",
    "# cora texts\n",
    "texts_cora=np.loadtxt('data/Cora_enrich/BOW_texts_3876.txt',dtype=np.int)"
   ]
  },
  {
   "cell_type": "code",
   "execution_count": 3,
   "metadata": {},
   "outputs": [],
   "source": [
    "with open('data/Cora_enrich/tokens_3876.pickle','rb') as f:\n",
    "    tokens=pickle.load(f)\n",
    "tokens=np.array(tokens)\n",
    "\n",
    "labels=[]\n",
    "with open('data/Cora_enrich/labels.txt') as f:\n",
    "    for line in f:\n",
    "        labels.append(line.strip())\n",
    "labels=np.array(labels)"
   ]
  },
  {
   "cell_type": "markdown",
   "metadata": {},
   "source": [
    "# Process input data "
   ]
  },
  {
   "cell_type": "code",
   "execution_count": 4,
   "metadata": {},
   "outputs": [
    {
     "data": {
      "text/plain": [
       "{'Case_Based',\n",
       " 'Genetic_Algorithms',\n",
       " 'Neural_Networks',\n",
       " 'Probabilistic_Methods',\n",
       " 'Reinforcement_Learning',\n",
       " 'Rule_Learning',\n",
       " 'Theory'}"
      ]
     },
     "execution_count": 4,
     "metadata": {},
     "output_type": "execute_result"
    }
   ],
   "source": [
    "set(labels)"
   ]
  },
  {
   "cell_type": "code",
   "execution_count": 57,
   "metadata": {},
   "outputs": [],
   "source": [
    "classes=['Neural_Networks','Genetic_Algorithms','Theory']"
   ]
  },
  {
   "cell_type": "code",
   "execution_count": 58,
   "metadata": {},
   "outputs": [],
   "source": [
    "G_sub,labels_sub,texts_sub,_=get_sub_input(classes,G_cora,labels,texts_cora)"
   ]
  },
  {
   "cell_type": "markdown",
   "metadata": {},
   "source": [
    "# PLSA "
   ]
  },
  {
   "cell_type": "markdown",
   "metadata": {},
   "source": [
    "## input transformation "
   ]
  },
  {
   "cell_type": "code",
   "execution_count": 59,
   "metadata": {},
   "outputs": [],
   "source": [
    "# transfer input to observed variables\n",
    "# PLSA part\n",
    "ii,jj=np.nonzero(texts_sub)\n",
    "WS=np.repeat(jj,texts_sub[ii,jj])\n",
    "DS=np.repeat(ii,texts_sub[ii,jj])"
   ]
  },
  {
   "cell_type": "code",
   "execution_count": 60,
   "metadata": {},
   "outputs": [],
   "source": [
    "# help utils\n",
    "D_ids={}\n",
    "for idx,d in enumerate(DS):\n",
    "    if d in D_ids:\n",
    "        D_ids[d].append(idx)\n",
    "    else:\n",
    "        D_ids[d]=[idx]\n",
    "        \n",
    "W_ids={}\n",
    "for idx,w in enumerate(WS):\n",
    "    if w in W_ids:\n",
    "        W_ids[w].append(idx)\n",
    "    else:\n",
    "        W_ids[w]=[idx]"
   ]
  },
  {
   "cell_type": "markdown",
   "metadata": {},
   "source": [
    "## initialization"
   ]
  },
  {
   "cell_type": "code",
   "execution_count": 61,
   "metadata": {},
   "outputs": [],
   "source": [
    "K=3\n",
    "D=texts_sub.shape[0]\n",
    "V=texts_sub.shape[1]\n",
    "N=len(WS)\n",
    "# runtime parameters\n",
    "n_iter_EM=50\n",
    "phi_max_gap=0.001"
   ]
  },
  {
   "cell_type": "code",
   "execution_count": 62,
   "metadata": {},
   "outputs": [],
   "source": [
    "# Initialize EM parameters randomly (use diriclet to ensure normalization)\n",
    "beta=1e-1\n",
    "\n",
    "omega=np.zeros((K,D))\n",
    "for k in range(K):\n",
    "    omega[k,:]=stats.dirichlet.rvs(np.repeat(beta,D))\n",
    "    \n",
    "phi=np.zeros((K,V))\n",
    "for k in range(K):\n",
    "    phi[k,:]=stats.dirichlet.rvs(np.repeat(beta,V))\n",
    "    \n",
    "pi=stats.dirichlet.rvs(np.repeat(beta,K)).flatten()\n",
    "    \n",
    "# initialize VI parameters\n",
    "epsilon=np.zeros((N,K))\n",
    "for n in range(N):\n",
    "    epsilon[n,:]=stats.dirichlet.rvs(np.repeat(beta,K))"
   ]
  },
  {
   "cell_type": "code",
   "execution_count": 63,
   "metadata": {},
   "outputs": [
    {
     "name": "stdout",
     "output_type": "stream",
     "text": [
      "iter:0,phi_gap:4.593371,pi_gap:0.814346,omega_gap:4.281663\n",
      "iter:1,phi_gap:0.451537,pi_gap:0.005533,omega_gap:0.450528\n",
      "iter:2,phi_gap:0.249629,pi_gap:0.002917,omega_gap:0.235100\n",
      "iter:3,phi_gap:0.175233,pi_gap:0.001946,omega_gap:0.160055\n",
      "iter:4,phi_gap:0.143915,pi_gap:0.002110,omega_gap:0.130549\n",
      "iter:5,phi_gap:0.131940,pi_gap:0.002427,omega_gap:0.120979\n",
      "iter:6,phi_gap:0.129697,pi_gap:0.002846,omega_gap:0.120325\n",
      "iter:7,phi_gap:0.131704,pi_gap:0.003382,omega_gap:0.123270\n",
      "iter:8,phi_gap:0.134981,pi_gap:0.003927,omega_gap:0.127381\n",
      "iter:9,phi_gap:0.137006,pi_gap:0.004230,omega_gap:0.130106\n",
      "iter:10,phi_gap:0.136094,pi_gap:0.004171,omega_gap:0.129594\n",
      "iter:11,phi_gap:0.131991,pi_gap:0.003982,omega_gap:0.126928\n",
      "iter:12,phi_gap:0.126324,pi_gap:0.004022,omega_gap:0.123481\n",
      "iter:13,phi_gap:0.120302,pi_gap:0.004131,omega_gap:0.119212\n",
      "iter:14,phi_gap:0.113925,pi_gap:0.004059,omega_gap:0.114112\n",
      "iter:15,phi_gap:0.108576,pi_gap:0.004124,omega_gap:0.109185\n",
      "iter:16,phi_gap:0.103046,pi_gap:0.004161,omega_gap:0.104239\n",
      "iter:17,phi_gap:0.097485,pi_gap:0.004079,omega_gap:0.099588\n",
      "iter:18,phi_gap:0.092867,pi_gap:0.004032,omega_gap:0.095995\n",
      "iter:19,phi_gap:0.089793,pi_gap:0.004160,omega_gap:0.093601\n",
      "iter:20,phi_gap:0.088208,pi_gap:0.004594,omega_gap:0.092296\n",
      "iter:21,phi_gap:0.084315,pi_gap:0.004523,omega_gap:0.089640\n",
      "iter:22,phi_gap:0.081410,pi_gap:0.004531,omega_gap:0.087544\n",
      "iter:23,phi_gap:0.077513,pi_gap:0.004228,omega_gap:0.084161\n",
      "iter:24,phi_gap:0.074072,pi_gap:0.003955,omega_gap:0.079603\n",
      "iter:25,phi_gap:0.070141,pi_gap:0.003691,omega_gap:0.075566\n",
      "iter:26,phi_gap:0.064725,pi_gap:0.003085,omega_gap:0.071202\n",
      "iter:27,phi_gap:0.060154,pi_gap:0.002578,omega_gap:0.067671\n",
      "iter:28,phi_gap:0.056586,pi_gap:0.002260,omega_gap:0.064411\n",
      "iter:29,phi_gap:0.053952,pi_gap:0.002173,omega_gap:0.061389\n",
      "iter:30,phi_gap:0.050944,pi_gap:0.002007,omega_gap:0.059078\n",
      "iter:31,phi_gap:0.048054,pi_gap:0.001766,omega_gap:0.057188\n",
      "iter:32,phi_gap:0.045642,pi_gap:0.001560,omega_gap:0.055283\n",
      "iter:33,phi_gap:0.043786,pi_gap:0.001424,omega_gap:0.053324\n",
      "iter:34,phi_gap:0.041845,pi_gap:0.001212,omega_gap:0.051130\n",
      "iter:35,phi_gap:0.039661,pi_gap:0.001200,omega_gap:0.048764\n",
      "iter:36,phi_gap:0.037360,pi_gap:0.001198,omega_gap:0.046455\n",
      "iter:37,phi_gap:0.035152,pi_gap:0.001141,omega_gap:0.044204\n",
      "iter:38,phi_gap:0.033098,pi_gap:0.000934,omega_gap:0.041873\n",
      "iter:39,phi_gap:0.031230,pi_gap:0.000910,omega_gap:0.039541\n",
      "iter:40,phi_gap:0.029401,pi_gap:0.001026,omega_gap:0.037350\n",
      "iter:41,phi_gap:0.027983,pi_gap:0.001074,omega_gap:0.035574\n",
      "iter:42,phi_gap:0.027205,pi_gap:0.001081,omega_gap:0.034383\n",
      "iter:43,phi_gap:0.027092,pi_gap:0.000985,omega_gap:0.034020\n",
      "iter:44,phi_gap:0.026947,pi_gap:0.000812,omega_gap:0.034113\n",
      "iter:45,phi_gap:0.026138,pi_gap:0.000746,omega_gap:0.033834\n",
      "iter:46,phi_gap:0.024857,pi_gap:0.000682,omega_gap:0.032862\n",
      "iter:47,phi_gap:0.023718,pi_gap:0.000796,omega_gap:0.031633\n",
      "iter:48,phi_gap:0.022629,pi_gap:0.000890,omega_gap:0.030356\n",
      "iter:49,phi_gap:0.021420,pi_gap:0.000962,omega_gap:0.028966\n"
     ]
    }
   ],
   "source": [
    "# variational-EM\n",
    "for it_em in range(n_iter_EM):\n",
    "    # E-step\n",
    "    # solve epsilon  \n",
    "    for k in range(K):\n",
    "        epsilon[:,k]=omega[k,DS[range(N)]]*phi[k,WS[range(N)]]*pi[k]\n",
    "    epsilon=epsilon/epsilon.sum(axis=1)[:,np.newaxis]\n",
    "\n",
    "    # M-step\n",
    "    phi_last=phi.copy()\n",
    "    pi_last=pi[:]\n",
    "    omega_last=omega.copy() \n",
    "    # omega    \n",
    "    for d in range(D):\n",
    "        ep_id=D_ids.get(d,[])\n",
    "        omega[:,d]=epsilon[ep_id,:].sum(axis=0)\n",
    "    omega=omega/omega.sum(axis=1)[:,np.newaxis]\n",
    "\n",
    "    # phi\n",
    "    for w in range(V):\n",
    "        ep_id=W_ids.get(w,[])\n",
    "        phi[:,w]=epsilon[ep_id,:].sum(axis=0)\n",
    "    phi=phi/phi.sum(axis=1)[:,np.newaxis]\n",
    "    \n",
    "    # pi\n",
    "    pi=epsilon.sum(axis=0)\n",
    "    pi=pi/pi.sum()\n",
    "    # check convergence\n",
    "    phi_gap=np.abs(phi-phi_last).sum()\n",
    "    pi_gap=np.abs(pi-pi_last).sum()\n",
    "    omega_gap=np.abs(omega-omega_last).sum() \n",
    "    print('iter:%d,phi_gap:%f,pi_gap:%f,omega_gap:%f'%(it_em,phi_gap,pi_gap,omega_gap))\n",
    "    if phi_gap<phi_max_gap:\n",
    "        break                "
   ]
  },
  {
   "cell_type": "markdown",
   "metadata": {},
   "source": [
    "## evaluation"
   ]
  },
  {
   "cell_type": "code",
   "execution_count": 64,
   "metadata": {
    "scrolled": true
   },
   "outputs": [
    {
     "data": {
      "text/plain": [
       "[[('genet', 0.011443453118107681),\n",
       "  ('program', 0.010588135440611232),\n",
       "  ('ga', 0.00916355719471431),\n",
       "  ('fit', 0.008265757092330872),\n",
       "  ('popul', 0.00814605536282518),\n",
       "  ('search', 0.007980494693829806),\n",
       "  ('solut', 0.00763029714788847),\n",
       "  ('oper', 0.007469306587717357),\n",
       "  ('control', 0.007463485515618326),\n",
       "  ('optim', 0.00634187677539266),\n",
       "  ('select', 0.006093376486241516),\n",
       "  ('perform', 0.006033790139420092),\n",
       "  ('gp', 0.005897179930214909),\n",
       "  ('crossov', 0.005486899046307891),\n",
       "  ('work', 0.005278797717187295),\n",
       "  ('individu', 0.004985836210216224),\n",
       "  ('paper', 0.004957432422430706),\n",
       "  ('number', 0.004837018086101751),\n",
       "  ('point', 0.004802420405421494),\n",
       "  ('implement', 0.004243521825552608)],\n",
       " [('network', 0.013481830995662495),\n",
       "  ('train', 0.00896808593046625),\n",
       "  ('data', 0.007811524811840889),\n",
       "  ('class', 0.007169402098567783),\n",
       "  ('error', 0.0064930713389916),\n",
       "  ('time', 0.005966734084886703),\n",
       "  ('tree', 0.0059070505254622705),\n",
       "  ('number', 0.005568492369675423),\n",
       "  ('case', 0.005378597917000387),\n",
       "  ('weight', 0.005132945790146736),\n",
       "  ('neural', 0.0051020233765722905),\n",
       "  ('input', 0.005051903776876986),\n",
       "  ('distribut', 0.004885888218841787),\n",
       "  ('bound', 0.004744410233603319),\n",
       "  ('given', 0.004496089195071764),\n",
       "  ('featur', 0.00444023868698703),\n",
       "  ('perform', 0.004413312624677526),\n",
       "  ('decis', 0.00439916206544179),\n",
       "  ('valu', 0.004338287352964333),\n",
       "  ('estim', 0.00405834347353026)],\n",
       " [('gen', 0.017576398029548926),\n",
       "  ('network', 0.017530713489848315),\n",
       "  ('al', 0.011374141943742661),\n",
       "  ('et', 0.011128637934867198),\n",
       "  ('process', 0.010532514015828318),\n",
       "  ('neural', 0.00921019430258884),\n",
       "  ('neuron', 0.009038299456356794),\n",
       "  ('sequenc', 0.008549302248179095),\n",
       "  ('robot', 0.007541227814284148),\n",
       "  ('comput', 0.007436895642361916),\n",
       "  ('structur', 0.007022879021455236),\n",
       "  ('pattern', 0.007000662187628272),\n",
       "  ('cell', 0.006502216534460643),\n",
       "  ('connect', 0.005810006609817482),\n",
       "  ('simul', 0.005765546835807981),\n",
       "  ('input', 0.005671958139419593),\n",
       "  ('architectur', 0.005643913747352993),\n",
       "  ('activ', 0.0055779362982131975),\n",
       "  ('visual', 0.0054715360082562645),\n",
       "  ('imag', 0.0054466754903742315)]]"
      ]
     },
     "execution_count": 64,
     "metadata": {},
     "output_type": "execute_result"
    }
   ],
   "source": [
    "get_top_tokens(phi,tokens,20)"
   ]
  },
  {
   "cell_type": "code",
   "execution_count": 65,
   "metadata": {
    "scrolled": true
   },
   "outputs": [
    {
     "data": {
      "text/plain": [
       "[[('Genetic_Algorithms', 0.015718248297831472),\n",
       "  ('Genetic_Algorithms', 0.012299091147099863),\n",
       "  ('Genetic_Algorithms', 0.011411207539917865),\n",
       "  ('Genetic_Algorithms', 0.010583615698410181),\n",
       "  ('Genetic_Algorithms', 0.010169553288437815),\n",
       "  ('Genetic_Algorithms', 0.00950879611930661),\n",
       "  ('Neural_Networks', 0.009182520694107176),\n",
       "  ('Genetic_Algorithms', 0.007008732602248876),\n",
       "  ('Genetic_Algorithms', 0.0068180188109922485),\n",
       "  ('Neural_Networks', 0.006635236857057845)],\n",
       " [('Theory', 0.01426808443055911),\n",
       "  ('Theory', 0.01151626137309912),\n",
       "  ('Theory', 0.008268141517165952),\n",
       "  ('Theory', 0.006804728110691406),\n",
       "  ('Neural_Networks', 0.006503962542955819),\n",
       "  ('Theory', 0.006417021940373834),\n",
       "  ('Neural_Networks', 0.0054852922479820985),\n",
       "  ('Neural_Networks', 0.004903016765420175),\n",
       "  ('Theory', 0.004615554077613276),\n",
       "  ('Neural_Networks', 0.004501767768784097)],\n",
       " [('Genetic_Algorithms', 0.15501995385587228),\n",
       "  ('Neural_Networks', 0.04381041049911638),\n",
       "  ('Neural_Networks', 0.014629230838203389),\n",
       "  ('Neural_Networks', 0.011860338968975094),\n",
       "  ('Neural_Networks', 0.010440732666904675),\n",
       "  ('Neural_Networks', 0.009161418493735415),\n",
       "  ('Neural_Networks', 0.009031103075120235),\n",
       "  ('Neural_Networks', 0.008182491951999583),\n",
       "  ('Neural_Networks', 0.007822356405708325),\n",
       "  ('Neural_Networks', 0.007590951341343823)]]"
      ]
     },
     "execution_count": 65,
     "metadata": {},
     "output_type": "execute_result"
    }
   ],
   "source": [
    "get_top_docs(omega,labels_sub,10)"
   ]
  },
  {
   "cell_type": "code",
   "execution_count": 14,
   "metadata": {
    "scrolled": true
   },
   "outputs": [
    {
     "data": {
      "text/plain": [
       "array([0.23659647, 0.53218612, 0.23121741])"
      ]
     },
     "execution_count": 14,
     "metadata": {},
     "output_type": "execute_result"
    }
   ],
   "source": [
    "pi "
   ]
  },
  {
   "cell_type": "code",
   "execution_count": 66,
   "metadata": {},
   "outputs": [
    {
     "data": {
      "image/png": "[encoded data removed]",
      "text/plain": [
       "<Figure size 360x288 with 2 Axes>"
      ]
     },
     "metadata": {
      "needs_background": "light"
     },
     "output_type": "display_data"
    }
   ],
   "source": [
    "draw_image_matrix(omega,labels_sub,(5,4))"
   ]
  },
  {
   "cell_type": "markdown",
   "metadata": {},
   "source": [
    "# BlockLDA"
   ]
  },
  {
   "cell_type": "markdown",
   "metadata": {},
   "source": [
    "## utils "
   ]
  },
  {
   "cell_type": "code",
   "execution_count": 16,
   "metadata": {},
   "outputs": [],
   "source": [
    "def index2ij(index,K):\n",
    "    row=int(index/K) \n",
    "    col=index%K\n",
    "    return row,col "
   ]
  },
  {
   "cell_type": "markdown",
   "metadata": {},
   "source": [
    "## input transformation "
   ]
  },
  {
   "cell_type": "code",
   "execution_count": 17,
   "metadata": {},
   "outputs": [],
   "source": [
    "# blockmodel part\n",
    "SS=[]\n",
    "RS=[]\n",
    "for e in G_sub.edges:\n",
    "    SS.append(e[0])\n",
    "    RS.append(e[1])\n",
    "SS=np.array(SS,dtype=np.int)\n",
    "RS=np.array(RS,dtype=np.int)"
   ]
  },
  {
   "cell_type": "code",
   "execution_count": 18,
   "metadata": {},
   "outputs": [],
   "source": [
    "# help utils \n",
    "S_ids={}\n",
    "for idx,s in enumerate(SS):\n",
    "    if s in S_ids:\n",
    "        S_ids[s].append(idx)\n",
    "    else:\n",
    "        S_ids[s]=[idx]\n",
    "        \n",
    "R_ids={}\n",
    "for idx,r in enumerate(RS):\n",
    "    if r in R_ids:\n",
    "        R_ids[r].append(idx)\n",
    "    else:\n",
    "        R_ids[r]=[idx]"
   ]
  },
  {
   "cell_type": "markdown",
   "metadata": {},
   "source": [
    "## initialization"
   ]
  },
  {
   "cell_type": "code",
   "execution_count": 19,
   "metadata": {},
   "outputs": [],
   "source": [
    "# model hyperparameters \n",
    "alpha=1e-2\n",
    "K=3\n",
    "D=texts_sub.shape[0]\n",
    "L=len(SS)\n",
    "\n",
    "# runtime parameters\n",
    "n_iter_VI=100\n",
    "gamma_max_gap=0.001\n",
    "verbose=10"
   ]
  },
  {
   "cell_type": "code",
   "execution_count": 20,
   "metadata": {},
   "outputs": [],
   "source": [
    "# Initialize EM parameters randomly (use diriclet to ensure normalization)\n",
    "beta=1e-1\n",
    "    \n",
    "# initialize VI parameters\n",
    "gamma=stats.dirichlet.rvs(np.repeat(beta,K**2))\n",
    "\n",
    "delta=np.zeros((L,K**2))\n",
    "for l in range(L):\n",
    "    delta[l,:]=stats.dirichlet.rvs(np.repeat(beta,K**2))"
   ]
  },
  {
   "cell_type": "markdown",
   "metadata": {},
   "source": [
    "## start "
   ]
  },
  {
   "cell_type": "code",
   "execution_count": 21,
   "metadata": {},
   "outputs": [
    {
     "name": "stdout",
     "output_type": "stream",
     "text": [
      "VI:0,gamma_gap:2864.090000\n",
      "VI:10,gamma_gap:2.615616\n",
      "VI:20,gamma_gap:0.003624\n",
      "VI:30,gamma_gap:0.000014\n",
      "VI:40,gamma_gap:0.000000\n",
      "VI:50,gamma_gap:0.000000\n",
      "VI:60,gamma_gap:0.000000\n",
      "VI:70,gamma_gap:0.000000\n",
      "VI:80,gamma_gap:0.000000\n",
      "VI:90,gamma_gap:0.000000\n"
     ]
    }
   ],
   "source": [
    "# VI with parameters from previous EM\n",
    "for it_vi in range(n_iter_VI):\n",
    "    gamma_last=gamma[:]\n",
    "    # solve gamma&delta\n",
    "    gamma=delta.sum(axis=0)+alpha\n",
    "\n",
    "    for k in range(K**2):\n",
    "        delta[:,k]=omega[index2ij(k,K)[0],SS[range(L)]]*omega[index2ij(k,K)[1],RS[range(L)]]*np.exp(digamma(gamma[k]))\n",
    "    delta=delta/delta.sum(axis=1)[:,np.newaxis]\n",
    "                \n",
    "    # check convergence \n",
    "    gamma_gap=np.abs(gamma-gamma_last).sum()\n",
    "    if it_vi%verbose==0:\n",
    "        print('VI:%d,gamma_gap:%f'%(it_vi,gamma_gap)) \n",
    "        "
   ]
  },
  {
   "cell_type": "code",
   "execution_count": 22,
   "metadata": {},
   "outputs": [],
   "source": [
    "# derive expectation from posterior (variational) distribution\n",
    "theta=gamma/gamma.sum()\n",
    "theta=theta.reshape(K,K)"
   ]
  },
  {
   "cell_type": "markdown",
   "metadata": {},
   "source": [
    "## evaluation"
   ]
  },
  {
   "cell_type": "code",
   "execution_count": 23,
   "metadata": {},
   "outputs": [
    {
     "data": {
      "text/plain": [
       "array([[3.09142349e-01, 3.49029175e-06, 3.49029175e-06],\n",
       "       [5.23427464e-04, 4.99985985e-01, 5.35482798e-03],\n",
       "       [3.49029175e-06, 3.49029175e-06, 1.84979450e-01]])"
      ]
     },
     "execution_count": 23,
     "metadata": {},
     "output_type": "execute_result"
    }
   ],
   "source": [
    "theta "
   ]
  },
  {
   "cell_type": "code",
   "execution_count": 67,
   "metadata": {},
   "outputs": [
    {
     "data": {
      "text/plain": [
       "[[('Genetic_Algorithms', 0.015718248297831472),\n",
       "  ('Genetic_Algorithms', 0.012299091147099863),\n",
       "  ('Genetic_Algorithms', 0.011411207539917865),\n",
       "  ('Genetic_Algorithms', 0.010583615698410181),\n",
       "  ('Genetic_Algorithms', 0.010169553288437815),\n",
       "  ('Genetic_Algorithms', 0.00950879611930661),\n",
       "  ('Neural_Networks', 0.009182520694107176),\n",
       "  ('Genetic_Algorithms', 0.007008732602248876),\n",
       "  ('Genetic_Algorithms', 0.0068180188109922485),\n",
       "  ('Neural_Networks', 0.006635236857057845)],\n",
       " [('Theory', 0.01426808443055911),\n",
       "  ('Theory', 0.01151626137309912),\n",
       "  ('Theory', 0.008268141517165952),\n",
       "  ('Theory', 0.006804728110691406),\n",
       "  ('Neural_Networks', 0.006503962542955819),\n",
       "  ('Theory', 0.006417021940373834),\n",
       "  ('Neural_Networks', 0.0054852922479820985),\n",
       "  ('Neural_Networks', 0.004903016765420175),\n",
       "  ('Theory', 0.004615554077613276),\n",
       "  ('Neural_Networks', 0.004501767768784097)],\n",
       " [('Genetic_Algorithms', 0.15501995385587228),\n",
       "  ('Neural_Networks', 0.04381041049911638),\n",
       "  ('Neural_Networks', 0.014629230838203389),\n",
       "  ('Neural_Networks', 0.011860338968975094),\n",
       "  ('Neural_Networks', 0.010440732666904675),\n",
       "  ('Neural_Networks', 0.009161418493735415),\n",
       "  ('Neural_Networks', 0.009031103075120235),\n",
       "  ('Neural_Networks', 0.008182491951999583),\n",
       "  ('Neural_Networks', 0.007822356405708325),\n",
       "  ('Neural_Networks', 0.007590951341343823)]]"
      ]
     },
     "execution_count": 67,
     "metadata": {},
     "output_type": "execute_result"
    }
   ],
   "source": [
    "get_top_docs(omega,labels_sub)"
   ]
  },
  {
   "cell_type": "code",
   "execution_count": 46,
   "metadata": {},
   "outputs": [],
   "source": [
    "def get_cluster_results(omega):\n",
    "    result=[]\n",
    "    for i in range(omega.shape[1]):\n",
    "        result.append(np.argmax(omega[:,i]))\n",
    "    return result "
   ]
  },
  {
   "cell_type": "code",
   "execution_count": 68,
   "metadata": {},
   "outputs": [],
   "source": [
    "y_pred=get_cluster_results(omega)"
   ]
  },
  {
   "cell_type": "code",
   "execution_count": 69,
   "metadata": {},
   "outputs": [
    {
     "data": {
      "text/plain": [
       "0.30618954973288354"
      ]
     },
     "execution_count": 69,
     "metadata": {},
     "output_type": "execute_result"
    }
   ],
   "source": [
    "metrics.adjusted_mutual_info_score(labels_sub,y_pred)"
   ]
  },
  {
   "cell_type": "code",
   "execution_count": 70,
   "metadata": {},
   "outputs": [
    {
     "data": {
      "text/plain": [
       "0.30704716672713855"
      ]
     },
     "execution_count": 70,
     "metadata": {},
     "output_type": "execute_result"
    }
   ],
   "source": [
    "metrics.normalized_mutual_info_score(labels_sub,y_pred)"
   ]
  },
  {
   "cell_type": "code",
   "execution_count": 71,
   "metadata": {},
   "outputs": [],
   "source": [
    "idx_class_dict={0:'Genetic_Algorithms',1:'Theory',2:'Neural_Networks'}"
   ]
  },
  {
   "cell_type": "code",
   "execution_count": 72,
   "metadata": {},
   "outputs": [],
   "source": [
    "labels_pred=[idx_class_dict[i] for i in y_pred]"
   ]
  },
  {
   "cell_type": "code",
   "execution_count": 73,
   "metadata": {},
   "outputs": [
    {
     "data": {
      "text/plain": [
       "0.6227082341703554"
      ]
     },
     "execution_count": 73,
     "metadata": {},
     "output_type": "execute_result"
    }
   ],
   "source": [
    "metrics.f1_score(labels_sub,labels_pred,average='macro')"
   ]
  },
  {
   "cell_type": "code",
   "execution_count": 74,
   "metadata": {},
   "outputs": [
    {
     "data": {
      "text/plain": [
       "0.61254851228978"
      ]
     },
     "execution_count": 74,
     "metadata": {},
     "output_type": "execute_result"
    }
   ],
   "source": [
    "metrics.f1_score(labels_sub,labels_pred,average='micro')"
   ]
  },
  {
   "cell_type": "code",
   "execution_count": 75,
   "metadata": {},
   "outputs": [
    {
     "data": {
      "text/plain": [
       "0.59617984678837"
      ]
     },
     "execution_count": 75,
     "metadata": {},
     "output_type": "execute_result"
    }
   ],
   "source": [
    "metrics.f1_score(labels_sub,labels_pred,average='weighted')"
   ]
  },
  {
   "cell_type": "code",
   "execution_count": 76,
   "metadata": {},
   "outputs": [
    {
     "data": {
      "text/plain": [
       "0.61254851228978"
      ]
     },
     "execution_count": 76,
     "metadata": {},
     "output_type": "execute_result"
    }
   ],
   "source": [
    "metrics.accuracy_score(labels_sub,labels_pred)"
   ]
  },
  {
   "cell_type": "code",
   "execution_count": null,
   "metadata": {},
   "outputs": [],
   "source": []
  }
 ],
 "metadata": {
  "kernelspec": {
   "display_name": "Python 3",
   "language": "python",
   "name": "python3"
  },
  "language_info": {
   "codemirror_mode": {
    "name": "ipython",
    "version": 3
   },
   "file_extension": ".py",
   "mimetype": "text/x-python",
   "name": "python",
   "nbconvert_exporter": "python",
   "pygments_lexer": "ipython3",
   "version": "3.7.0"
  }
 },
 "nbformat": 4,
 "nbformat_minor": 4
}
