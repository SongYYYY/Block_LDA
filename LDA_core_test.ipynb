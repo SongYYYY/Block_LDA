{
 "cells": [
  {
   "cell_type": "code",
   "execution_count": 1,
   "metadata": {},
   "outputs": [],
   "source": [
    "import numpy as np\n",
    "import scipy.stats as stats\n",
    "import matplotlib.pyplot as plt \n",
    "import random \n",
    "import networkx as nx \n",
    "import itertools \n",
    "import pickle \n",
    "from scipy.special import digamma\n",
    "import timeit\n",
    "from Block_PLSA.beta import Block_PLSA \n",
    "from Block_PLSA.utils_beta import draw_image_matrix,get_normalized_theta,get_top_docs,get_top_tokens,get_sub_input\n",
    "import sklearn.metrics as metrics \n",
    "import lda "
   ]
  },
  {
   "cell_type": "code",
   "execution_count": 2,
   "metadata": {},
   "outputs": [],
   "source": [
    "# cora dataset\n",
    "G_cora=nx.read_adjlist('data/Cora_enrich/idx_adjlist.txt',nodetype=int,create_using=nx.DiGraph)\n",
    "# cora texts\n",
    "texts_cora=np.loadtxt('data/Cora_enrich/BOW_texts_3876.txt',dtype=np.int)"
   ]
  },
  {
   "cell_type": "code",
   "execution_count": 3,
   "metadata": {},
   "outputs": [],
   "source": [
    "with open('data/Cora_enrich/tokens_3876.pickle','rb') as f:\n",
    "    tokens=pickle.load(f)\n",
    "tokens=np.array(tokens)\n",
    "\n",
    "labels=[]\n",
    "with open('data/Cora_enrich/labels.txt') as f:\n",
    "    for line in f:\n",
    "        labels.append(line.strip())\n",
    "labels=np.array(labels)"
   ]
  },
  {
   "cell_type": "code",
   "execution_count": 4,
   "metadata": {},
   "outputs": [
    {
     "data": {
      "text/plain": [
       "{'Case_Based',\n",
       " 'Genetic_Algorithms',\n",
       " 'Neural_Networks',\n",
       " 'Probabilistic_Methods',\n",
       " 'Reinforcement_Learning',\n",
       " 'Rule_Learning',\n",
       " 'Theory'}"
      ]
     },
     "execution_count": 4,
     "metadata": {},
     "output_type": "execute_result"
    }
   ],
   "source": [
    "set(labels)"
   ]
  },
  {
   "cell_type": "code",
   "execution_count": 5,
   "metadata": {},
   "outputs": [],
   "source": [
    "classes=['Neural_Networks','Genetic_Algorithms','Reinforcement_Learning']"
   ]
  },
  {
   "cell_type": "code",
   "execution_count": 6,
   "metadata": {},
   "outputs": [],
   "source": [
    "G_sub,labels_sub,texts_sub,_=get_sub_input(classes,G_cora,labels,texts_cora)"
   ]
  },
  {
   "cell_type": "code",
   "execution_count": 7,
   "metadata": {},
   "outputs": [],
   "source": [
    "model = lda.LDA(n_topics=3, n_iter=1500, random_state=1)"
   ]
  },
  {
   "cell_type": "code",
   "execution_count": 8,
   "metadata": {},
   "outputs": [
    {
     "name": "stderr",
     "output_type": "stream",
     "text": [
      "INFO:lda:n_documents: 1405\n",
      "INFO:lda:vocab_size: 3876\n",
      "INFO:lda:n_words: 963123\n",
      "INFO:lda:n_topics: 3\n",
      "INFO:lda:n_iter: 1500\n",
      "WARNING:lda:all zero column in document-term matrix found\n",
      "INFO:lda:<0> log likelihood: -8007433\n",
      "INFO:lda:<10> log likelihood: -7368719\n",
      "INFO:lda:<20> log likelihood: -7192415\n",
      "INFO:lda:<30> log likelihood: -7164994\n",
      "INFO:lda:<40> log likelihood: -7150654\n",
      "INFO:lda:<50> log likelihood: -7144616\n",
      "INFO:lda:<60> log likelihood: -7140266\n",
      "INFO:lda:<70> log likelihood: -7133214\n",
      "INFO:lda:<80> log likelihood: -7128634\n",
      "INFO:lda:<90> log likelihood: -7122945\n",
      "INFO:lda:<100> log likelihood: -7119518\n",
      "INFO:lda:<110> log likelihood: -7115283\n",
      "INFO:lda:<120> log likelihood: -7115296\n",
      "INFO:lda:<130> log likelihood: -7113622\n",
      "INFO:lda:<140> log likelihood: -7109108\n",
      "INFO:lda:<150> log likelihood: -7106522\n",
      "INFO:lda:<160> log likelihood: -7105707\n",
      "INFO:lda:<170> log likelihood: -7105368\n",
      "INFO:lda:<180> log likelihood: -7103392\n",
      "INFO:lda:<190> log likelihood: -7105616\n",
      "INFO:lda:<200> log likelihood: -7103282\n",
      "INFO:lda:<210> log likelihood: -7102610\n",
      "INFO:lda:<220> log likelihood: -7098877\n",
      "INFO:lda:<230> log likelihood: -7100266\n",
      "INFO:lda:<240> log likelihood: -7099364\n",
      "INFO:lda:<250> log likelihood: -7098831\n",
      "INFO:lda:<260> log likelihood: -7100365\n",
      "INFO:lda:<270> log likelihood: -7098744\n",
      "INFO:lda:<280> log likelihood: -7097836\n",
      "INFO:lda:<290> log likelihood: -7098173\n",
      "INFO:lda:<300> log likelihood: -7096600\n",
      "INFO:lda:<310> log likelihood: -7096385\n",
      "INFO:lda:<320> log likelihood: -7096194\n",
      "INFO:lda:<330> log likelihood: -7096774\n",
      "INFO:lda:<340> log likelihood: -7096484\n",
      "INFO:lda:<350> log likelihood: -7095209\n",
      "INFO:lda:<360> log likelihood: -7095597\n",
      "INFO:lda:<370> log likelihood: -7095048\n",
      "INFO:lda:<380> log likelihood: -7094363\n",
      "INFO:lda:<390> log likelihood: -7095270\n",
      "INFO:lda:<400> log likelihood: -7095901\n",
      "INFO:lda:<410> log likelihood: -7096736\n",
      "INFO:lda:<420> log likelihood: -7096468\n",
      "INFO:lda:<430> log likelihood: -7095879\n",
      "INFO:lda:<440> log likelihood: -7095590\n",
      "INFO:lda:<450> log likelihood: -7097585\n",
      "INFO:lda:<460> log likelihood: -7095711\n",
      "INFO:lda:<470> log likelihood: -7096173\n",
      "INFO:lda:<480> log likelihood: -7097424\n",
      "INFO:lda:<490> log likelihood: -7094566\n",
      "INFO:lda:<500> log likelihood: -7094993\n",
      "INFO:lda:<510> log likelihood: -7097012\n",
      "INFO:lda:<520> log likelihood: -7094933\n",
      "INFO:lda:<530> log likelihood: -7094901\n",
      "INFO:lda:<540> log likelihood: -7095072\n",
      "INFO:lda:<550> log likelihood: -7094893\n",
      "INFO:lda:<560> log likelihood: -7095696\n",
      "INFO:lda:<570> log likelihood: -7097134\n",
      "INFO:lda:<580> log likelihood: -7096345\n",
      "INFO:lda:<590> log likelihood: -7096922\n",
      "INFO:lda:<600> log likelihood: -7094361\n",
      "INFO:lda:<610> log likelihood: -7094668\n",
      "INFO:lda:<620> log likelihood: -7094581\n",
      "INFO:lda:<630> log likelihood: -7095175\n",
      "INFO:lda:<640> log likelihood: -7093462\n",
      "INFO:lda:<650> log likelihood: -7094915\n",
      "INFO:lda:<660> log likelihood: -7095661\n",
      "INFO:lda:<670> log likelihood: -7094993\n",
      "INFO:lda:<680> log likelihood: -7094062\n",
      "INFO:lda:<690> log likelihood: -7093917\n",
      "INFO:lda:<700> log likelihood: -7094087\n",
      "INFO:lda:<710> log likelihood: -7094462\n",
      "INFO:lda:<720> log likelihood: -7094211\n",
      "INFO:lda:<730> log likelihood: -7094096\n",
      "INFO:lda:<740> log likelihood: -7094254\n",
      "INFO:lda:<750> log likelihood: -7094408\n",
      "INFO:lda:<760> log likelihood: -7095017\n",
      "INFO:lda:<770> log likelihood: -7093884\n",
      "INFO:lda:<780> log likelihood: -7093450\n",
      "INFO:lda:<790> log likelihood: -7093378\n",
      "INFO:lda:<800> log likelihood: -7093200\n",
      "INFO:lda:<810> log likelihood: -7092975\n",
      "INFO:lda:<820> log likelihood: -7094469\n",
      "INFO:lda:<830> log likelihood: -7094130\n",
      "INFO:lda:<840> log likelihood: -7095833\n",
      "INFO:lda:<850> log likelihood: -7094361\n",
      "INFO:lda:<860> log likelihood: -7095582\n",
      "INFO:lda:<870> log likelihood: -7093739\n",
      "INFO:lda:<880> log likelihood: -7095228\n",
      "INFO:lda:<890> log likelihood: -7094977\n",
      "INFO:lda:<900> log likelihood: -7094169\n",
      "INFO:lda:<910> log likelihood: -7093725\n",
      "INFO:lda:<920> log likelihood: -7093362\n",
      "INFO:lda:<930> log likelihood: -7094849\n",
      "INFO:lda:<940> log likelihood: -7095322\n",
      "INFO:lda:<950> log likelihood: -7093607\n",
      "INFO:lda:<960> log likelihood: -7095304\n",
      "INFO:lda:<970> log likelihood: -7094551\n",
      "INFO:lda:<980> log likelihood: -7095793\n",
      "INFO:lda:<990> log likelihood: -7095138\n",
      "INFO:lda:<1000> log likelihood: -7096658\n",
      "INFO:lda:<1010> log likelihood: -7096088\n",
      "INFO:lda:<1020> log likelihood: -7095249\n",
      "INFO:lda:<1030> log likelihood: -7096891\n",
      "INFO:lda:<1040> log likelihood: -7096073\n",
      "INFO:lda:<1050> log likelihood: -7096627\n",
      "INFO:lda:<1060> log likelihood: -7096127\n",
      "INFO:lda:<1070> log likelihood: -7095551\n",
      "INFO:lda:<1080> log likelihood: -7097591\n",
      "INFO:lda:<1090> log likelihood: -7095740\n",
      "INFO:lda:<1100> log likelihood: -7095919\n",
      "INFO:lda:<1110> log likelihood: -7095769\n",
      "INFO:lda:<1120> log likelihood: -7096173\n",
      "INFO:lda:<1130> log likelihood: -7096775\n",
      "INFO:lda:<1140> log likelihood: -7095172\n",
      "INFO:lda:<1150> log likelihood: -7095351\n",
      "INFO:lda:<1160> log likelihood: -7095945\n",
      "INFO:lda:<1170> log likelihood: -7095565\n",
      "INFO:lda:<1180> log likelihood: -7096038\n",
      "INFO:lda:<1190> log likelihood: -7096710\n",
      "INFO:lda:<1200> log likelihood: -7095725\n",
      "INFO:lda:<1210> log likelihood: -7096740\n",
      "INFO:lda:<1220> log likelihood: -7095989\n",
      "INFO:lda:<1230> log likelihood: -7096849\n",
      "INFO:lda:<1240> log likelihood: -7096093\n",
      "INFO:lda:<1250> log likelihood: -7095103\n",
      "INFO:lda:<1260> log likelihood: -7095601\n",
      "INFO:lda:<1270> log likelihood: -7094138\n",
      "INFO:lda:<1280> log likelihood: -7096372\n",
      "INFO:lda:<1290> log likelihood: -7094396\n",
      "INFO:lda:<1300> log likelihood: -7095134\n",
      "INFO:lda:<1310> log likelihood: -7094189\n",
      "INFO:lda:<1320> log likelihood: -7094514\n",
      "INFO:lda:<1330> log likelihood: -7094566\n",
      "INFO:lda:<1340> log likelihood: -7094890\n",
      "INFO:lda:<1350> log likelihood: -7094944\n",
      "INFO:lda:<1360> log likelihood: -7094206\n",
      "INFO:lda:<1370> log likelihood: -7095203\n",
      "INFO:lda:<1380> log likelihood: -7094504\n",
      "INFO:lda:<1390> log likelihood: -7094778\n",
      "INFO:lda:<1400> log likelihood: -7095005\n",
      "INFO:lda:<1410> log likelihood: -7094635\n",
      "INFO:lda:<1420> log likelihood: -7096950\n",
      "INFO:lda:<1430> log likelihood: -7096548\n",
      "INFO:lda:<1440> log likelihood: -7095843\n",
      "INFO:lda:<1450> log likelihood: -7096477\n",
      "INFO:lda:<1460> log likelihood: -7097123\n",
      "INFO:lda:<1470> log likelihood: -7098406\n",
      "INFO:lda:<1480> log likelihood: -7097553\n",
      "INFO:lda:<1490> log likelihood: -7098134\n",
      "INFO:lda:<1499> log likelihood: -7097595\n"
     ]
    },
    {
     "data": {
      "text/plain": [
       "<lda.lda.LDA at 0x2066bd44198>"
      ]
     },
     "execution_count": 8,
     "metadata": {},
     "output_type": "execute_result"
    }
   ],
   "source": [
    "model.fit(texts_sub)  # model.fit_transform(X) is also available"
   ]
  },
  {
   "cell_type": "code",
   "execution_count": 9,
   "metadata": {},
   "outputs": [],
   "source": [
    "topic_word = model.topic_word_"
   ]
  },
  {
   "cell_type": "code",
   "execution_count": 10,
   "metadata": {},
   "outputs": [],
   "source": [
    "doc_topic = model.doc_topic_"
   ]
  },
  {
   "cell_type": "code",
   "execution_count": 11,
   "metadata": {},
   "outputs": [
    {
     "data": {
      "text/plain": [
       "[[('network', 0.021122224436848306),\n",
       "  ('train', 0.009111688719769516),\n",
       "  ('data', 0.00799321031177673),\n",
       "  ('neural', 0.007936412580120848),\n",
       "  ('input', 0.006820118700268671),\n",
       "  ('weight', 0.006381028544005878),\n",
       "  ('linear', 0.005841450093274983),\n",
       "  ('time', 0.005793390474181543),\n",
       "  ('case', 0.005194829763654154),\n",
       "  ('error', 0.005026621096827113)],\n",
       " [('genet', 0.020014080809131196),\n",
       "  ('gen', 0.01753883054611857),\n",
       "  ('ga', 0.015842569658243995),\n",
       "  ('program', 0.014846938267535007),\n",
       "  ('popul', 0.01240395383662869),\n",
       "  ('search', 0.011717152553222953),\n",
       "  ('fit', 0.010716911757927348),\n",
       "  ('gp', 0.008343068395820266),\n",
       "  ('evolv', 0.007988144242650859),\n",
       "  ('select', 0.007923612578438238)],\n",
       " [('al', 0.009059852888515437),\n",
       "  ('et', 0.00843945982688053),\n",
       "  ('state', 0.00825230214348229),\n",
       "  ('network', 0.00815872330178317),\n",
       "  ('task', 0.00815872330178317),\n",
       "  ('control', 0.007105094861911596),\n",
       "  ('time', 0.006751574793270475),\n",
       "  ('action', 0.006519360630535621),\n",
       "  ('environ', 0.005715275768528368),\n",
       "  ('neuron', 0.005600901628673887)]]"
      ]
     },
     "execution_count": 11,
     "metadata": {},
     "output_type": "execute_result"
    }
   ],
   "source": [
    "get_top_tokens(topic_word,tokens)"
   ]
  },
  {
   "cell_type": "code",
   "execution_count": 12,
   "metadata": {},
   "outputs": [],
   "source": [
    "y_pred=[]\n",
    "for i in range(doc_topic.shape[0]):\n",
    "    y_pred.append(np.argmax(doc_topic[i,:])) "
   ]
  },
  {
   "cell_type": "code",
   "execution_count": 13,
   "metadata": {},
   "outputs": [
    {
     "data": {
      "text/plain": [
       "0.3402862335871631"
      ]
     },
     "execution_count": 13,
     "metadata": {},
     "output_type": "execute_result"
    }
   ],
   "source": [
    "metrics.adjusted_mutual_info_score(labels_sub,y_pred)"
   ]
  },
  {
   "cell_type": "code",
   "execution_count": 14,
   "metadata": {},
   "outputs": [],
   "source": [
    "idx_class_dict={0:'Neural_Networks',1:'Genetic_Algorithms',2:'Reinforcement_Learning'}"
   ]
  },
  {
   "cell_type": "code",
   "execution_count": 15,
   "metadata": {},
   "outputs": [],
   "source": [
    "labels_pred=[idx_class_dict[i] for i in y_pred]"
   ]
  },
  {
   "cell_type": "code",
   "execution_count": 16,
   "metadata": {},
   "outputs": [
    {
     "data": {
      "text/plain": [
       "0.7036739620317342"
      ]
     },
     "execution_count": 16,
     "metadata": {},
     "output_type": "execute_result"
    }
   ],
   "source": [
    "metrics.f1_score(labels_sub,labels_pred,average='macro')"
   ]
  },
  {
   "cell_type": "code",
   "execution_count": 17,
   "metadata": {},
   "outputs": [
    {
     "data": {
      "text/plain": [
       "0.7274021352313167"
      ]
     },
     "execution_count": 17,
     "metadata": {},
     "output_type": "execute_result"
    }
   ],
   "source": [
    "metrics.accuracy_score(labels_sub,labels_pred)"
   ]
  },
  {
   "cell_type": "code",
   "execution_count": null,
   "metadata": {},
   "outputs": [],
   "source": []
  }
 ],
 "metadata": {
  "kernelspec": {
   "display_name": "Python 3",
   "language": "python",
   "name": "python3"
  },
  "language_info": {
   "codemirror_mode": {
    "name": "ipython",
    "version": 3
   },
   "file_extension": ".py",
   "mimetype": "text/x-python",
   "name": "python",
   "nbconvert_exporter": "python",
   "pygments_lexer": "ipython3",
   "version": "3.7.0"
  }
 },
 "nbformat": 4,
 "nbformat_minor": 4
}
