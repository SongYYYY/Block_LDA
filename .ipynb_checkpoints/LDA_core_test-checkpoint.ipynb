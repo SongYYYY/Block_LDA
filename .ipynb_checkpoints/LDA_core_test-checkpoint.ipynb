{
 "cells": [
  {
   "cell_type": "code",
   "execution_count": 8,
   "metadata": {},
   "outputs": [],
   "source": [
    "import numpy as np\n",
    "import scipy.stats as stats\n",
    "import matplotlib.pyplot as plt \n",
    "import random \n",
    "import networkx as nx \n",
    "import itertools \n",
    "import pickle \n",
    "from scipy.special import digamma\n",
    "import timeit\n",
    "from Block_PLSA.beta import Block_PLSA \n",
    "from Block_PLSA.utils_beta import draw_image_matrix,get_normalized_theta,get_top_docs,get_top_tokens,get_sub_input\n",
    "import sklearn.metrics as metrics \n",
    "import lda "
   ]
  },
  {
   "cell_type": "code",
   "execution_count": 9,
   "metadata": {},
   "outputs": [],
   "source": [
    "# cora dataset\n",
    "G_cora=nx.read_adjlist('data/Cora_enrich/idx_adjlist.txt',nodetype=int,create_using=nx.DiGraph)\n",
    "# cora texts\n",
    "texts_cora=np.loadtxt('data/Cora_enrich/BOW_texts_3876.txt',dtype=np.int)"
   ]
  },
  {
   "cell_type": "code",
   "execution_count": 10,
   "metadata": {},
   "outputs": [],
   "source": [
    "with open('data/Cora_enrich/tokens_3876.pickle','rb') as f:\n",
    "    tokens=pickle.load(f)\n",
    "tokens=np.array(tokens)\n",
    "\n",
    "labels=[]\n",
    "with open('data/Cora_enrich/labels.txt') as f:\n",
    "    for line in f:\n",
    "        labels.append(line.strip())\n",
    "labels=np.array(labels)"
   ]
  },
  {
   "cell_type": "code",
   "execution_count": 49,
   "metadata": {},
   "outputs": [],
   "source": [
    "classes=['Neural_Networks','Genetic_Algorithms','Case_Based']"
   ]
  },
  {
   "cell_type": "code",
   "execution_count": 50,
   "metadata": {},
   "outputs": [],
   "source": [
    "G_sub,labels_sub,texts_sub,_=get_sub_input(classes,G_cora,labels,texts_cora)"
   ]
  },
  {
   "cell_type": "code",
   "execution_count": 51,
   "metadata": {},
   "outputs": [],
   "source": [
    "model = lda.LDA(n_topics=3, n_iter=1500, random_state=1)"
   ]
  },
  {
   "cell_type": "code",
   "execution_count": 52,
   "metadata": {},
   "outputs": [
    {
     "name": "stderr",
     "output_type": "stream",
     "text": [
      "INFO:lda:n_documents: 1493\n",
      "INFO:lda:vocab_size: 3876\n",
      "INFO:lda:n_words: 1019235\n",
      "INFO:lda:n_topics: 3\n",
      "INFO:lda:n_iter: 1500\n",
      "WARNING:lda:all zero column in document-term matrix found\n",
      "INFO:lda:<0> log likelihood: -8481727\n",
      "INFO:lda:<10> log likelihood: -7805033\n",
      "INFO:lda:<20> log likelihood: -7616898\n",
      "INFO:lda:<30> log likelihood: -7581490\n",
      "INFO:lda:<40> log likelihood: -7566715\n",
      "INFO:lda:<50> log likelihood: -7557193\n",
      "INFO:lda:<60> log likelihood: -7552441\n",
      "INFO:lda:<70> log likelihood: -7548674\n",
      "INFO:lda:<80> log likelihood: -7543948\n",
      "INFO:lda:<90> log likelihood: -7540901\n",
      "INFO:lda:<100> log likelihood: -7539250\n",
      "INFO:lda:<110> log likelihood: -7535990\n",
      "INFO:lda:<120> log likelihood: -7535080\n",
      "INFO:lda:<130> log likelihood: -7534002\n",
      "INFO:lda:<140> log likelihood: -7531427\n",
      "INFO:lda:<150> log likelihood: -7530999\n",
      "INFO:lda:<160> log likelihood: -7531381\n",
      "INFO:lda:<170> log likelihood: -7530064\n",
      "INFO:lda:<180> log likelihood: -7528523\n",
      "INFO:lda:<190> log likelihood: -7528281\n",
      "INFO:lda:<200> log likelihood: -7528668\n",
      "INFO:lda:<210> log likelihood: -7528503\n",
      "INFO:lda:<220> log likelihood: -7526928\n",
      "INFO:lda:<230> log likelihood: -7526407\n",
      "INFO:lda:<240> log likelihood: -7526218\n",
      "INFO:lda:<250> log likelihood: -7524942\n",
      "INFO:lda:<260> log likelihood: -7526301\n",
      "INFO:lda:<270> log likelihood: -7526573\n",
      "INFO:lda:<280> log likelihood: -7526347\n",
      "INFO:lda:<290> log likelihood: -7526081\n",
      "INFO:lda:<300> log likelihood: -7524779\n",
      "INFO:lda:<310> log likelihood: -7524891\n",
      "INFO:lda:<320> log likelihood: -7524721\n",
      "INFO:lda:<330> log likelihood: -7525145\n",
      "INFO:lda:<340> log likelihood: -7524668\n",
      "INFO:lda:<350> log likelihood: -7523875\n",
      "INFO:lda:<360> log likelihood: -7523135\n",
      "INFO:lda:<370> log likelihood: -7522024\n",
      "INFO:lda:<380> log likelihood: -7522832\n",
      "INFO:lda:<390> log likelihood: -7524052\n",
      "INFO:lda:<400> log likelihood: -7522521\n",
      "INFO:lda:<410> log likelihood: -7522136\n",
      "INFO:lda:<420> log likelihood: -7522878\n",
      "INFO:lda:<430> log likelihood: -7524505\n",
      "INFO:lda:<440> log likelihood: -7524043\n",
      "INFO:lda:<450> log likelihood: -7524258\n",
      "INFO:lda:<460> log likelihood: -7523258\n",
      "INFO:lda:<470> log likelihood: -7524093\n",
      "INFO:lda:<480> log likelihood: -7524493\n",
      "INFO:lda:<490> log likelihood: -7522868\n",
      "INFO:lda:<500> log likelihood: -7521906\n",
      "INFO:lda:<510> log likelihood: -7523536\n",
      "INFO:lda:<520> log likelihood: -7524161\n",
      "INFO:lda:<530> log likelihood: -7524161\n",
      "INFO:lda:<540> log likelihood: -7525830\n",
      "INFO:lda:<550> log likelihood: -7525430\n",
      "INFO:lda:<560> log likelihood: -7525126\n",
      "INFO:lda:<570> log likelihood: -7523565\n",
      "INFO:lda:<580> log likelihood: -7523989\n",
      "INFO:lda:<590> log likelihood: -7521671\n",
      "INFO:lda:<600> log likelihood: -7523155\n",
      "INFO:lda:<610> log likelihood: -7525443\n",
      "INFO:lda:<620> log likelihood: -7524682\n",
      "INFO:lda:<630> log likelihood: -7524562\n",
      "INFO:lda:<640> log likelihood: -7524557\n",
      "INFO:lda:<650> log likelihood: -7525446\n",
      "INFO:lda:<660> log likelihood: -7526328\n",
      "INFO:lda:<670> log likelihood: -7527354\n",
      "INFO:lda:<680> log likelihood: -7524820\n",
      "INFO:lda:<690> log likelihood: -7528058\n",
      "INFO:lda:<700> log likelihood: -7525111\n",
      "INFO:lda:<710> log likelihood: -7525996\n",
      "INFO:lda:<720> log likelihood: -7526245\n",
      "INFO:lda:<730> log likelihood: -7526063\n",
      "INFO:lda:<740> log likelihood: -7527153\n",
      "INFO:lda:<750> log likelihood: -7527029\n",
      "INFO:lda:<760> log likelihood: -7527466\n",
      "INFO:lda:<770> log likelihood: -7526989\n",
      "INFO:lda:<780> log likelihood: -7526389\n",
      "INFO:lda:<790> log likelihood: -7526702\n",
      "INFO:lda:<800> log likelihood: -7528049\n",
      "INFO:lda:<810> log likelihood: -7525427\n",
      "INFO:lda:<820> log likelihood: -7525054\n",
      "INFO:lda:<830> log likelihood: -7525868\n",
      "INFO:lda:<840> log likelihood: -7527435\n",
      "INFO:lda:<850> log likelihood: -7523950\n",
      "INFO:lda:<860> log likelihood: -7526310\n",
      "INFO:lda:<870> log likelihood: -7525907\n",
      "INFO:lda:<880> log likelihood: -7525426\n",
      "INFO:lda:<890> log likelihood: -7526504\n",
      "INFO:lda:<900> log likelihood: -7526982\n",
      "INFO:lda:<910> log likelihood: -7524256\n",
      "INFO:lda:<920> log likelihood: -7527854\n",
      "INFO:lda:<930> log likelihood: -7525709\n",
      "INFO:lda:<940> log likelihood: -7526511\n",
      "INFO:lda:<950> log likelihood: -7524768\n",
      "INFO:lda:<960> log likelihood: -7523532\n",
      "INFO:lda:<970> log likelihood: -7526857\n",
      "INFO:lda:<980> log likelihood: -7524864\n",
      "INFO:lda:<990> log likelihood: -7524659\n",
      "INFO:lda:<1000> log likelihood: -7527318\n",
      "INFO:lda:<1010> log likelihood: -7527522\n",
      "INFO:lda:<1020> log likelihood: -7528065\n",
      "INFO:lda:<1030> log likelihood: -7527040\n",
      "INFO:lda:<1040> log likelihood: -7526094\n",
      "INFO:lda:<1050> log likelihood: -7527095\n",
      "INFO:lda:<1060> log likelihood: -7527526\n",
      "INFO:lda:<1070> log likelihood: -7526022\n",
      "INFO:lda:<1080> log likelihood: -7527318\n",
      "INFO:lda:<1090> log likelihood: -7528366\n",
      "INFO:lda:<1100> log likelihood: -7526469\n",
      "INFO:lda:<1110> log likelihood: -7528597\n",
      "INFO:lda:<1120> log likelihood: -7527869\n",
      "INFO:lda:<1130> log likelihood: -7528863\n",
      "INFO:lda:<1140> log likelihood: -7525628\n",
      "INFO:lda:<1150> log likelihood: -7526696\n",
      "INFO:lda:<1160> log likelihood: -7526945\n",
      "INFO:lda:<1170> log likelihood: -7527021\n",
      "INFO:lda:<1180> log likelihood: -7526080\n",
      "INFO:lda:<1190> log likelihood: -7526754\n",
      "INFO:lda:<1200> log likelihood: -7526096\n",
      "INFO:lda:<1210> log likelihood: -7525695\n",
      "INFO:lda:<1220> log likelihood: -7526017\n",
      "INFO:lda:<1230> log likelihood: -7525458\n",
      "INFO:lda:<1240> log likelihood: -7526353\n",
      "INFO:lda:<1250> log likelihood: -7523400\n",
      "INFO:lda:<1260> log likelihood: -7527380\n",
      "INFO:lda:<1270> log likelihood: -7527638\n",
      "INFO:lda:<1280> log likelihood: -7528009\n",
      "INFO:lda:<1290> log likelihood: -7526442\n",
      "INFO:lda:<1300> log likelihood: -7526390\n",
      "INFO:lda:<1310> log likelihood: -7528577\n",
      "INFO:lda:<1320> log likelihood: -7526730\n",
      "INFO:lda:<1330> log likelihood: -7526764\n",
      "INFO:lda:<1340> log likelihood: -7527631\n",
      "INFO:lda:<1350> log likelihood: -7528282\n",
      "INFO:lda:<1360> log likelihood: -7527608\n",
      "INFO:lda:<1370> log likelihood: -7527654\n",
      "INFO:lda:<1380> log likelihood: -7528899\n",
      "INFO:lda:<1390> log likelihood: -7527851\n",
      "INFO:lda:<1400> log likelihood: -7527028\n",
      "INFO:lda:<1410> log likelihood: -7527016\n",
      "INFO:lda:<1420> log likelihood: -7525131\n",
      "INFO:lda:<1430> log likelihood: -7525529\n",
      "INFO:lda:<1440> log likelihood: -7526866\n",
      "INFO:lda:<1450> log likelihood: -7526415\n",
      "INFO:lda:<1460> log likelihood: -7526619\n",
      "INFO:lda:<1470> log likelihood: -7526715\n",
      "INFO:lda:<1480> log likelihood: -7527521\n",
      "INFO:lda:<1490> log likelihood: -7527592\n",
      "INFO:lda:<1499> log likelihood: -7526671\n"
     ]
    },
    {
     "data": {
      "text/plain": [
       "<lda.lda.LDA at 0x26da1fbe470>"
      ]
     },
     "execution_count": 52,
     "metadata": {},
     "output_type": "execute_result"
    }
   ],
   "source": [
    "model.fit(texts_sub)  # model.fit_transform(X) is also available"
   ]
  },
  {
   "cell_type": "code",
   "execution_count": 53,
   "metadata": {},
   "outputs": [],
   "source": [
    "topic_word = model.topic_word_"
   ]
  },
  {
   "cell_type": "code",
   "execution_count": 54,
   "metadata": {},
   "outputs": [],
   "source": [
    "doc_topic = model.doc_topic_"
   ]
  },
  {
   "cell_type": "code",
   "execution_count": 55,
   "metadata": {},
   "outputs": [
    {
     "data": {
      "text/plain": [
       "[[('case', 0.012759877197234917),\n",
       "  ('genet', 0.011164245054113012),\n",
       "  ('gen', 0.009912207434469234),\n",
       "  ('program', 0.009131310790200766),\n",
       "  ('ga', 0.008811143166050694),\n",
       "  ('search', 0.008189028839450148),\n",
       "  ('design', 0.007345660463640202),\n",
       "  ('process', 0.007087964571031608),\n",
       "  ('knowledg', 0.0069031523652214035),\n",
       "  ('popul', 0.0067131341817827424)],\n",
       " [('data', 0.009429243880441685),\n",
       "  ('linear', 0.007117420690470497),\n",
       "  ('case', 0.0065296690320032465),\n",
       "  ('time', 0.00616022513239526),\n",
       "  ('train', 0.006129438140761261),\n",
       "  ('valu', 0.006011887809067811),\n",
       "  ('approxim', 0.005589266378455643),\n",
       "  ('weight', 0.005578071108770553),\n",
       "  ('point', 0.005566875839085462),\n",
       "  ('error', 0.005541686482294009)],\n",
       " [('network', 0.03358962035060991),\n",
       "  ('et', 0.012001457012097433),\n",
       "  ('neural', 0.011623601177701065),\n",
       "  ('al', 0.011612805296718312),\n",
       "  ('input', 0.008539577843627855),\n",
       "  ('train', 0.008280476700041773),\n",
       "  ('neuron', 0.007495976015295029),\n",
       "  ('unit', 0.007474384253329522),\n",
       "  ('sequenc', 0.006401993409042688),\n",
       "  ('connect', 0.005761437804065988)]]"
      ]
     },
     "execution_count": 55,
     "metadata": {},
     "output_type": "execute_result"
    }
   ],
   "source": [
    "get_top_tokens(topic_word,tokens)"
   ]
  },
  {
   "cell_type": "code",
   "execution_count": 56,
   "metadata": {},
   "outputs": [],
   "source": [
    "y_pred=[]\n",
    "for i in range(doc_topic.shape[0]):\n",
    "    y_pred.append(np.argmax(doc_topic[i,:])) "
   ]
  },
  {
   "cell_type": "code",
   "execution_count": 57,
   "metadata": {},
   "outputs": [
    {
     "data": {
      "text/plain": [
       "0.39843862298937416"
      ]
     },
     "execution_count": 57,
     "metadata": {},
     "output_type": "execute_result"
    }
   ],
   "source": [
    "metrics.adjusted_mutual_info_score(labels_sub,y_pred)"
   ]
  },
  {
   "cell_type": "code",
   "execution_count": 45,
   "metadata": {},
   "outputs": [],
   "source": [
    "idx_class_dict={0:'Genetic_Algorithms',1:'Neural_Networks',2:'Theory'}"
   ]
  },
  {
   "cell_type": "code",
   "execution_count": 46,
   "metadata": {},
   "outputs": [],
   "source": [
    "labels_pred=[idx_class_dict[i] for i in y_pred]"
   ]
  },
  {
   "cell_type": "code",
   "execution_count": 47,
   "metadata": {},
   "outputs": [
    {
     "data": {
      "text/plain": [
       "0.8313276348622765"
      ]
     },
     "execution_count": 47,
     "metadata": {},
     "output_type": "execute_result"
    }
   ],
   "source": [
    "metrics.f1_score(labels_sub,labels_pred,average='macro')"
   ]
  },
  {
   "cell_type": "code",
   "execution_count": 48,
   "metadata": {},
   "outputs": [
    {
     "data": {
      "text/plain": [
       "0.8350582147477361"
      ]
     },
     "execution_count": 48,
     "metadata": {},
     "output_type": "execute_result"
    }
   ],
   "source": [
    "metrics.accuracy_score(labels_sub,labels_pred)"
   ]
  },
  {
   "cell_type": "code",
   "execution_count": null,
   "metadata": {},
   "outputs": [],
   "source": []
  }
 ],
 "metadata": {
  "kernelspec": {
   "display_name": "Python 3",
   "language": "python",
   "name": "python3"
  },
  "language_info": {
   "codemirror_mode": {
    "name": "ipython",
    "version": 3
   },
   "file_extension": ".py",
   "mimetype": "text/x-python",
   "name": "python",
   "nbconvert_exporter": "python",
   "pygments_lexer": "ipython3",
   "version": "3.7.0"
  }
 },
 "nbformat": 4,
 "nbformat_minor": 4
}
