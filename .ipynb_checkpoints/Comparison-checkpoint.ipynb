{
 "cells": [
  {
   "cell_type": "code",
   "execution_count": 1,
   "metadata": {},
   "outputs": [],
   "source": [
    "import numpy as np\n",
    "import scipy.stats as stats\n",
    "import matplotlib.pyplot as plt \n",
    "import random \n",
    "import networkx as nx \n",
    "import itertools \n",
    "import pickle \n",
    "from scipy.special import digamma\n",
    "import timeit\n",
    "import seaborn as sns \n",
    "from Block_PLSA.utils_beta import draw_image_matrix,get_normalized_theta,\\\n",
    "get_sub_input,get_top_docs,get_top_tokens,get_cluster_results,get_train_graph,predict_links,pred_links_acc"
   ]
  },
  {
   "cell_type": "markdown",
   "metadata": {},
   "source": [
    "# load data"
   ]
  },
  {
   "cell_type": "code",
   "execution_count": 2,
   "metadata": {},
   "outputs": [],
   "source": [
    "# cora dataset\n",
    "G_cora=nx.read_adjlist('data/Cora_enrich/idx_adjlist.txt',nodetype=int,create_using=nx.DiGraph)\n",
    "# cora texts\n",
    "texts_cora=np.loadtxt('data/Cora_enrich/BOW_texts_3876.txt',dtype=np.int)"
   ]
  },
  {
   "cell_type": "code",
   "execution_count": 3,
   "metadata": {},
   "outputs": [],
   "source": [
    "with open('data/Cora_enrich/tokens_3876.pickle','rb') as f:\n",
    "    tokens=pickle.load(f)\n",
    "tokens=np.array(tokens)\n",
    "\n",
    "labels=[]\n",
    "with open('data/Cora_enrich/labels.txt') as f:\n",
    "    for line in f:\n",
    "        labels.append(line.strip())\n",
    "labels=np.array(labels)"
   ]
  },
  {
   "cell_type": "markdown",
   "metadata": {},
   "source": [
    "# Process input data "
   ]
  },
  {
   "cell_type": "code",
   "execution_count": 9,
   "metadata": {},
   "outputs": [
    {
     "data": {
      "text/plain": [
       "{'Case_Based',\n",
       " 'Genetic_Algorithms',\n",
       " 'Neural_Networks',\n",
       " 'Probabilistic_Methods',\n",
       " 'Reinforcement_Learning',\n",
       " 'Rule_Learning',\n",
       " 'Theory'}"
      ]
     },
     "execution_count": 9,
     "metadata": {},
     "output_type": "execute_result"
    }
   ],
   "source": [
    "set(labels)"
   ]
  },
  {
   "cell_type": "code",
   "execution_count": 4,
   "metadata": {},
   "outputs": [],
   "source": [
    "classes=['Neural_Networks','Genetic_Algorithms','Theory']"
   ]
  },
  {
   "cell_type": "code",
   "execution_count": 5,
   "metadata": {},
   "outputs": [],
   "source": [
    "G_sub,labels_sub,texts_sub,_=get_sub_input(classes,G_cora,labels,texts_cora)"
   ]
  },
  {
   "cell_type": "markdown",
   "metadata": {},
   "source": [
    "# PLSA "
   ]
  },
  {
   "cell_type": "markdown",
   "metadata": {},
   "source": [
    "## input transformation "
   ]
  },
  {
   "cell_type": "code",
   "execution_count": 12,
   "metadata": {},
   "outputs": [],
   "source": [
    "# transfer input to observed variables\n",
    "# PLSA part\n",
    "ii,jj=np.nonzero(texts_sub)\n",
    "WS=np.repeat(jj,texts_sub[ii,jj])\n",
    "DS=np.repeat(ii,texts_sub[ii,jj])"
   ]
  },
  {
   "cell_type": "code",
   "execution_count": 13,
   "metadata": {},
   "outputs": [],
   "source": [
    "# help utils\n",
    "D_ids={}\n",
    "for idx,d in enumerate(DS):\n",
    "    if d in D_ids:\n",
    "        D_ids[d].append(idx)\n",
    "    else:\n",
    "        D_ids[d]=[idx]\n",
    "        \n",
    "W_ids={}\n",
    "for idx,w in enumerate(WS):\n",
    "    if w in W_ids:\n",
    "        W_ids[w].append(idx)\n",
    "    else:\n",
    "        W_ids[w]=[idx]"
   ]
  },
  {
   "cell_type": "markdown",
   "metadata": {},
   "source": [
    "## initialization"
   ]
  },
  {
   "cell_type": "code",
   "execution_count": 54,
   "metadata": {},
   "outputs": [],
   "source": [
    "K=3\n",
    "D=texts_sub.shape[0]\n",
    "V=texts_sub.shape[1]\n",
    "N=len(WS)\n",
    "# runtime parameters\n",
    "n_iter_EM=80\n",
    "phi_max_gap=0.001"
   ]
  },
  {
   "cell_type": "code",
   "execution_count": 55,
   "metadata": {},
   "outputs": [],
   "source": [
    "# Initialize EM parameters randomly (use diriclet to ensure normalization)\n",
    "beta=1e-1\n",
    "\n",
    "omega=np.zeros((K,D))\n",
    "for k in range(K):\n",
    "    omega[k,:]=stats.dirichlet.rvs(np.repeat(beta,D))\n",
    "    \n",
    "phi=np.zeros((K,V))\n",
    "for k in range(K):\n",
    "    phi[k,:]=stats.dirichlet.rvs(np.repeat(beta,V))\n",
    "    \n",
    "pi=stats.dirichlet.rvs(np.repeat(beta,K)).flatten()\n",
    "    \n",
    "# initialize VI parameters\n",
    "epsilon=np.zeros((N,K))\n",
    "for n in range(N):\n",
    "    epsilon[n,:]=stats.dirichlet.rvs(np.repeat(beta,K))"
   ]
  },
  {
   "cell_type": "code",
   "execution_count": 56,
   "metadata": {},
   "outputs": [
    {
     "name": "stdout",
     "output_type": "stream",
     "text": [
      "iter:0,phi_gap:4.651223,pi_gap:0.824366,omega_gap:4.184163\n",
      "iter:1,phi_gap:0.446954,pi_gap:0.011392,omega_gap:0.415270\n",
      "iter:2,phi_gap:0.243967,pi_gap:0.007478,omega_gap:0.218378\n",
      "iter:3,phi_gap:0.166009,pi_gap:0.005818,omega_gap:0.147065\n",
      "iter:4,phi_gap:0.130148,pi_gap:0.005045,omega_gap:0.115889\n",
      "iter:5,phi_gap:0.113591,pi_gap:0.004684,omega_gap:0.102954\n",
      "iter:6,phi_gap:0.106875,pi_gap:0.004621,omega_gap:0.099349\n",
      "iter:7,phi_gap:0.105540,pi_gap:0.004988,omega_gap:0.100650\n",
      "iter:8,phi_gap:0.107117,pi_gap:0.005293,omega_gap:0.104264\n",
      "iter:9,phi_gap:0.109696,pi_gap:0.005335,omega_gap:0.108122\n",
      "iter:10,phi_gap:0.111782,pi_gap:0.005009,omega_gap:0.111195\n",
      "iter:11,phi_gap:0.112672,pi_gap:0.004394,omega_gap:0.112950\n",
      "iter:12,phi_gap:0.112024,pi_gap:0.003797,omega_gap:0.113664\n",
      "iter:13,phi_gap:0.109854,pi_gap:0.003562,omega_gap:0.113428\n",
      "iter:14,phi_gap:0.106964,pi_gap:0.003301,omega_gap:0.112520\n",
      "iter:15,phi_gap:0.104005,pi_gap:0.002728,omega_gap:0.111397\n",
      "iter:16,phi_gap:0.100566,pi_gap:0.002087,omega_gap:0.109468\n",
      "iter:17,phi_gap:0.096592,pi_gap:0.001465,omega_gap:0.106879\n",
      "iter:18,phi_gap:0.092313,pi_gap:0.001197,omega_gap:0.103425\n",
      "iter:19,phi_gap:0.087368,pi_gap:0.001280,omega_gap:0.099407\n",
      "iter:20,phi_gap:0.082145,pi_gap:0.001446,omega_gap:0.094901\n",
      "iter:21,phi_gap:0.077484,pi_gap:0.001604,omega_gap:0.090636\n",
      "iter:22,phi_gap:0.073299,pi_gap:0.001712,omega_gap:0.086883\n",
      "iter:23,phi_gap:0.069427,pi_gap:0.001733,omega_gap:0.083367\n",
      "iter:24,phi_gap:0.066113,pi_gap:0.001710,omega_gap:0.080256\n",
      "iter:25,phi_gap:0.063318,pi_gap:0.001680,omega_gap:0.077435\n",
      "iter:26,phi_gap:0.060909,pi_gap:0.001630,omega_gap:0.075047\n",
      "iter:27,phi_gap:0.058944,pi_gap:0.001500,omega_gap:0.072994\n",
      "iter:28,phi_gap:0.056598,pi_gap:0.001240,omega_gap:0.070407\n",
      "iter:29,phi_gap:0.054111,pi_gap:0.000858,omega_gap:0.067321\n",
      "iter:30,phi_gap:0.051723,pi_gap:0.000626,omega_gap:0.064253\n",
      "iter:31,phi_gap:0.049212,pi_gap:0.000452,omega_gap:0.061196\n",
      "iter:32,phi_gap:0.046315,pi_gap:0.000528,omega_gap:0.057969\n",
      "iter:33,phi_gap:0.043095,pi_gap:0.000752,omega_gap:0.054519\n",
      "iter:34,phi_gap:0.039794,pi_gap:0.000991,omega_gap:0.051055\n",
      "iter:35,phi_gap:0.036774,pi_gap:0.001217,omega_gap:0.047849\n",
      "iter:36,phi_gap:0.034235,pi_gap:0.001411,omega_gap:0.045050\n",
      "iter:37,phi_gap:0.032115,pi_gap:0.001567,omega_gap:0.042686\n",
      "iter:38,phi_gap:0.030152,pi_gap:0.001734,omega_gap:0.040555\n",
      "iter:39,phi_gap:0.028321,pi_gap:0.001858,omega_gap:0.038603\n",
      "iter:40,phi_gap:0.026669,pi_gap:0.001900,omega_gap:0.036798\n",
      "iter:41,phi_gap:0.025409,pi_gap:0.001870,omega_gap:0.035339\n",
      "iter:42,phi_gap:0.024440,pi_gap:0.001974,omega_gap:0.034210\n",
      "iter:43,phi_gap:0.023396,pi_gap:0.002118,omega_gap:0.033137\n",
      "iter:44,phi_gap:0.022068,pi_gap:0.002200,omega_gap:0.031718\n",
      "iter:45,phi_gap:0.020659,pi_gap:0.002199,omega_gap:0.029939\n",
      "iter:46,phi_gap:0.019445,pi_gap:0.002180,omega_gap:0.028228\n",
      "iter:47,phi_gap:0.018547,pi_gap:0.002124,omega_gap:0.026856\n",
      "iter:48,phi_gap:0.017985,pi_gap:0.002042,omega_gap:0.026016\n",
      "iter:49,phi_gap:0.017086,pi_gap:0.002095,omega_gap:0.025204\n",
      "iter:50,phi_gap:0.016159,pi_gap:0.002195,omega_gap:0.024278\n",
      "iter:51,phi_gap:0.015465,pi_gap:0.002261,omega_gap:0.023337\n",
      "iter:52,phi_gap:0.014809,pi_gap:0.002266,omega_gap:0.022312\n",
      "iter:53,phi_gap:0.014245,pi_gap:0.002237,omega_gap:0.021298\n",
      "iter:54,phi_gap:0.013753,pi_gap:0.002201,omega_gap:0.020430\n",
      "iter:55,phi_gap:0.013228,pi_gap:0.002139,omega_gap:0.019696\n",
      "iter:56,phi_gap:0.012769,pi_gap:0.002056,omega_gap:0.019097\n",
      "iter:57,phi_gap:0.012411,pi_gap:0.001991,omega_gap:0.018641\n",
      "iter:58,phi_gap:0.012034,pi_gap:0.001917,omega_gap:0.018173\n",
      "iter:59,phi_gap:0.011580,pi_gap:0.001811,omega_gap:0.017616\n",
      "iter:60,phi_gap:0.011160,pi_gap:0.001716,omega_gap:0.017079\n",
      "iter:61,phi_gap:0.010798,pi_gap:0.001653,omega_gap:0.016596\n",
      "iter:62,phi_gap:0.010478,pi_gap:0.001623,omega_gap:0.016145\n",
      "iter:63,phi_gap:0.010229,pi_gap:0.001601,omega_gap:0.015743\n",
      "iter:64,phi_gap:0.010063,pi_gap:0.001573,omega_gap:0.015416\n",
      "iter:65,phi_gap:0.009926,pi_gap:0.001544,omega_gap:0.015149\n",
      "iter:66,phi_gap:0.009775,pi_gap:0.001511,omega_gap:0.014917\n",
      "iter:67,phi_gap:0.009583,pi_gap:0.001474,omega_gap:0.014673\n",
      "iter:68,phi_gap:0.009362,pi_gap:0.001448,omega_gap:0.014427\n",
      "iter:69,phi_gap:0.009154,pi_gap:0.001439,omega_gap:0.014194\n",
      "iter:70,phi_gap:0.009004,pi_gap:0.001435,omega_gap:0.013988\n",
      "iter:71,phi_gap:0.008894,pi_gap:0.001424,omega_gap:0.013804\n",
      "iter:72,phi_gap:0.008804,pi_gap:0.001394,omega_gap:0.013616\n",
      "iter:73,phi_gap:0.008696,pi_gap:0.001349,omega_gap:0.013412\n",
      "iter:74,phi_gap:0.008536,pi_gap:0.001301,omega_gap:0.013177\n",
      "iter:75,phi_gap:0.008339,pi_gap:0.001255,omega_gap:0.012901\n",
      "iter:76,phi_gap:0.008139,pi_gap:0.001207,omega_gap:0.012607\n",
      "iter:77,phi_gap:0.007962,pi_gap:0.001153,omega_gap:0.012335\n",
      "iter:78,phi_gap:0.007799,pi_gap:0.001105,omega_gap:0.012081\n",
      "iter:79,phi_gap:0.007644,pi_gap:0.001070,omega_gap:0.011841\n"
     ]
    }
   ],
   "source": [
    "# variational-EM\n",
    "for it_em in range(n_iter_EM):\n",
    "    # E-step\n",
    "    # solve epsilon  \n",
    "    for k in range(K):\n",
    "        epsilon[:,k]=omega[k,DS[range(N)]]*phi[k,WS[range(N)]]*pi[k]\n",
    "    epsilon=epsilon/epsilon.sum(axis=1)[:,np.newaxis]\n",
    "\n",
    "    # M-step\n",
    "    phi_last=phi.copy()\n",
    "    pi_last=pi[:]\n",
    "    omega_last=omega.copy() \n",
    "    # omega    \n",
    "    for d in range(D):\n",
    "        ep_id=D_ids.get(d,[])\n",
    "        omega[:,d]=epsilon[ep_id,:].sum(axis=0)\n",
    "    omega=omega/omega.sum(axis=1)[:,np.newaxis]\n",
    "\n",
    "    # phi\n",
    "    for w in range(V):\n",
    "        ep_id=W_ids.get(w,[])\n",
    "        phi[:,w]=epsilon[ep_id,:].sum(axis=0)\n",
    "    phi=phi/phi.sum(axis=1)[:,np.newaxis]\n",
    "    \n",
    "    # pi\n",
    "    pi=epsilon.sum(axis=0)\n",
    "    pi=pi/pi.sum()\n",
    "    # check convergence\n",
    "    phi_gap=np.abs(phi-phi_last).sum()\n",
    "    pi_gap=np.abs(pi-pi_last).sum()\n",
    "    omega_gap=np.abs(omega-omega_last).sum() \n",
    "    print('iter:%d,phi_gap:%f,pi_gap:%f,omega_gap:%f'%(it_em,phi_gap,pi_gap,omega_gap))\n",
    "    if phi_gap<phi_max_gap:\n",
    "        break                "
   ]
  },
  {
   "cell_type": "markdown",
   "metadata": {},
   "source": [
    "## evaluation"
   ]
  },
  {
   "cell_type": "code",
   "execution_count": 57,
   "metadata": {
    "scrolled": true
   },
   "outputs": [
    {
     "data": {
      "text/plain": [
       "[[('network', 0.03135490275953366),\n",
       "  ('neural', 0.01239393997571077),\n",
       "  ('gen', 0.010765569554823131),\n",
       "  ('input', 0.007977223765129318),\n",
       "  ('process', 0.007674829125800307),\n",
       "  ('et', 0.0073736110956648),\n",
       "  ('al', 0.007163569331353491),\n",
       "  ('comput', 0.006561167571158122),\n",
       "  ('unit', 0.006424777062221641),\n",
       "  ('neuron', 0.0060323338323982475),\n",
       "  ('time', 0.0060299605271097075),\n",
       "  ('train', 0.0059327027188033205),\n",
       "  ('architectur', 0.005833141612767929),\n",
       "  ('pattern', 0.005539035558294567),\n",
       "  ('weight', 0.005299427911213875),\n",
       "  ('task', 0.005232592096137391),\n",
       "  ('activ', 0.004832586420340503),\n",
       "  ('simul', 0.004823870470484623),\n",
       "  ('connect', 0.0047647331699264515),\n",
       "  ('robot', 0.004448209325049961)],\n",
       " [('genet', 0.011146647794977708),\n",
       "  ('program', 0.009003869802220276),\n",
       "  ('ga', 0.008884372575064524),\n",
       "  ('search', 0.008115887291789704),\n",
       "  ('popul', 0.007833009484025677),\n",
       "  ('fit', 0.007226380322904587),\n",
       "  ('sequenc', 0.006698233788682834),\n",
       "  ('number', 0.006147795378017741),\n",
       "  ('queri', 0.005855187576330086),\n",
       "  ('gp', 0.005789206800684856),\n",
       "  ('optim', 0.005759141932740488),\n",
       "  ('select', 0.005609939994776615),\n",
       "  ('oper', 0.005568216820929348),\n",
       "  ('perform', 0.0055439333164019),\n",
       "  ('solut', 0.005394197726622565),\n",
       "  ('crossov', 0.005389026898812665),\n",
       "  ('time', 0.005373142113369862),\n",
       "  ('work', 0.005203188365670981),\n",
       "  ('class', 0.0049710826645631),\n",
       "  ('individu', 0.004724772987361946)],\n",
       " [('data', 0.00871795747681033),\n",
       "  ('train', 0.008070505690188095),\n",
       "  ('error', 0.008048150863623009),\n",
       "  ('tree', 0.006892069937218143),\n",
       "  ('case', 0.006800091261827684),\n",
       "  ('class', 0.006522886027199357),\n",
       "  ('bound', 0.0055353828377073845),\n",
       "  ('estim', 0.00547560825892006),\n",
       "  ('linear', 0.00539351453331892),\n",
       "  ('decis', 0.005372015045487904),\n",
       "  ('valu', 0.005271238997278377),\n",
       "  ('distribut', 0.0052551352807221645),\n",
       "  ('given', 0.005046383530525982),\n",
       "  ('featur', 0.004888461030321558),\n",
       "  ('number', 0.004882933978114006),\n",
       "  ('paper', 0.004877150028342556),\n",
       "  ('test', 0.004748371248032729),\n",
       "  ('approxim', 0.004668345372237074),\n",
       "  ('classifi', 0.00455542365989935),\n",
       "  ('classif', 0.004430297164376722)]]"
      ]
     },
     "execution_count": 57,
     "metadata": {},
     "output_type": "execute_result"
    }
   ],
   "source": [
    "get_top_tokens(phi,tokens,20)"
   ]
  },
  {
   "cell_type": "code",
   "execution_count": 58,
   "metadata": {
    "scrolled": true
   },
   "outputs": [
    {
     "data": {
      "text/plain": [
       "[[('Genetic_Algorithms', 0.09494992188387551),\n",
       "  ('Neural_Networks', 0.029915200840568146),\n",
       "  ('Neural_Networks', 0.012538923732675072),\n",
       "  ('Neural_Networks', 0.010852822716350973),\n",
       "  ('Neural_Networks', 0.009730872169784986),\n",
       "  ('Neural_Networks', 0.00930184498620957),\n",
       "  ('Neural_Networks', 0.006791027109967108),\n",
       "  ('Neural_Networks', 0.0066039889079090785),\n",
       "  ('Neural_Networks', 0.006082136534677695),\n",
       "  ('Neural_Networks', 0.006064324963075451)],\n",
       " [('Genetic_Algorithms', 0.01421252140591125),\n",
       "  ('Genetic_Algorithms', 0.011738237175380082),\n",
       "  ('Genetic_Algorithms', 0.011599844255671543),\n",
       "  ('Genetic_Algorithms', 0.011198017392697053),\n",
       "  ('Genetic_Algorithms', 0.010336657070293465),\n",
       "  ('Genetic_Algorithms', 0.0096021821800779),\n",
       "  ('Neural_Networks', 0.0094674423539186),\n",
       "  ('Genetic_Algorithms', 0.0070840826958687856),\n",
       "  ('Genetic_Algorithms', 0.006919688222679465),\n",
       "  ('Genetic_Algorithms', 0.006885905947519221)],\n",
       " [('Theory', 0.01863102582003023),\n",
       "  ('Theory', 0.015521452884581219),\n",
       "  ('Theory', 0.010202945369853446),\n",
       "  ('Theory', 0.008760984540600905),\n",
       "  ('Neural_Networks', 0.008023284642345014),\n",
       "  ('Neural_Networks', 0.007454644785625466),\n",
       "  ('Neural_Networks', 0.007287499468066249),\n",
       "  ('Theory', 0.006735485198224739),\n",
       "  ('Neural_Networks', 0.006357816024506596),\n",
       "  ('Theory', 0.005884282582491626)]]"
      ]
     },
     "execution_count": 58,
     "metadata": {},
     "output_type": "execute_result"
    }
   ],
   "source": [
    "get_top_docs(omega,labels_sub,10)"
   ]
  },
  {
   "cell_type": "code",
   "execution_count": 59,
   "metadata": {
    "scrolled": false
   },
   "outputs": [
    {
     "data": {
      "text/plain": [
       "array([0.31681447, 0.27772702, 0.40545851])"
      ]
     },
     "execution_count": 59,
     "metadata": {},
     "output_type": "execute_result"
    }
   ],
   "source": [
    "pi "
   ]
  },
  {
   "cell_type": "code",
   "execution_count": 61,
   "metadata": {},
   "outputs": [
    {
     "data": {
      "image/png": "[encoded data removed]",
      "text/plain": [
       "<Figure size 360x288 with 2 Axes>"
      ]
     },
     "metadata": {
      "needs_background": "light"
     },
     "output_type": "display_data"
    }
   ],
   "source": [
    "draw_image_matrix(omega,labels_sub,(5,4))"
   ]
  },
  {
   "cell_type": "markdown",
   "metadata": {},
   "source": [
    "# BlockLDA"
   ]
  },
  {
   "cell_type": "markdown",
   "metadata": {},
   "source": [
    "## utils "
   ]
  },
  {
   "cell_type": "code",
   "execution_count": 6,
   "metadata": {},
   "outputs": [],
   "source": [
    "def index2ij(index,K):\n",
    "    row=int(index/K) \n",
    "    col=index%K\n",
    "    return row,col "
   ]
  },
  {
   "cell_type": "code",
   "execution_count": 7,
   "metadata": {},
   "outputs": [],
   "source": [
    "# use removed graph\n",
    "G_sub,removed_edges=get_train_graph(G_sub,0.2,1)"
   ]
  },
  {
   "cell_type": "markdown",
   "metadata": {},
   "source": [
    "## input transformation "
   ]
  },
  {
   "cell_type": "code",
   "execution_count": 8,
   "metadata": {},
   "outputs": [],
   "source": [
    "# blockmodel part\n",
    "SS=[]\n",
    "RS=[]\n",
    "for e in G_sub.edges:\n",
    "    SS.append(e[0])\n",
    "    RS.append(e[1])\n",
    "SS=np.array(SS,dtype=np.int)\n",
    "RS=np.array(RS,dtype=np.int)"
   ]
  },
  {
   "cell_type": "code",
   "execution_count": 9,
   "metadata": {},
   "outputs": [],
   "source": [
    "# help utils \n",
    "S_ids={}\n",
    "for idx,s in enumerate(SS):\n",
    "    if s in S_ids:\n",
    "        S_ids[s].append(idx)\n",
    "    else:\n",
    "        S_ids[s]=[idx]\n",
    "        \n",
    "R_ids={}\n",
    "for idx,r in enumerate(RS):\n",
    "    if r in R_ids:\n",
    "        R_ids[r].append(idx)\n",
    "    else:\n",
    "        R_ids[r]=[idx]"
   ]
  },
  {
   "cell_type": "markdown",
   "metadata": {},
   "source": [
    "## initialization"
   ]
  },
  {
   "cell_type": "code",
   "execution_count": 10,
   "metadata": {},
   "outputs": [],
   "source": [
    "# model hyperparameters \n",
    "alpha=1e-2\n",
    "K=3\n",
    "D=texts_sub.shape[0]\n",
    "L=len(SS)\n",
    "\n",
    "# runtime parameters\n",
    "n_iter_EM=100\n",
    "n_iter_VI=100\n",
    "gamma_max_gap=0.001\n",
    "omega_max_gap=0.001 \n",
    "verbose=10"
   ]
  },
  {
   "cell_type": "code",
   "execution_count": 11,
   "metadata": {},
   "outputs": [],
   "source": [
    "# Initialize EM parameters randomly (use diriclet to ensure normalization)\n",
    "beta=1e-1\n",
    "\n",
    "omega=np.zeros((K,D))\n",
    "for k in range(K):\n",
    "    omega[k,:]=stats.dirichlet.rvs(np.repeat(beta,D))\n",
    "    \n",
    "# initialize VI parameters\n",
    "gamma=stats.dirichlet.rvs(np.repeat(beta,K**2))\n",
    "\n",
    "delta=np.zeros((L,K**2))\n",
    "for l in range(L):\n",
    "    delta[l,:]=stats.dirichlet.rvs(np.repeat(beta,K**2))"
   ]
  },
  {
   "cell_type": "markdown",
   "metadata": {},
   "source": [
    "## start "
   ]
  },
  {
   "cell_type": "code",
   "execution_count": 12,
   "metadata": {},
   "outputs": [
    {
     "name": "stdout",
     "output_type": "stream",
     "text": [
      "iter:0,gamma_gap:2291.090000\n",
      "iter:10,gamma_gap:0.013861\n",
      "iter:0,omega_gap:3.780929\n",
      "iter:0,gamma_gap:0.000264\n",
      "iter:1,omega_gap:0.028894\n",
      "iter:0,gamma_gap:21.445006\n",
      "iter:10,gamma_gap:0.004737\n",
      "iter:2,omega_gap:0.040875\n",
      "iter:0,gamma_gap:0.000428\n",
      "iter:3,omega_gap:0.040057\n",
      "iter:0,gamma_gap:30.350466\n",
      "iter:10,gamma_gap:0.006887\n",
      "iter:4,omega_gap:0.056198\n",
      "iter:0,gamma_gap:0.000269\n",
      "iter:5,omega_gap:0.054997\n",
      "iter:0,gamma_gap:42.671722\n",
      "iter:10,gamma_gap:0.009783\n",
      "iter:6,omega_gap:0.075898\n",
      "iter:0,gamma_gap:0.000379\n",
      "iter:7,omega_gap:0.073867\n",
      "iter:0,gamma_gap:58.742244\n",
      "iter:10,gamma_gap:0.012897\n",
      "iter:8,omega_gap:0.099131\n",
      "iter:0,gamma_gap:0.000228\n",
      "iter:9,omega_gap:0.095318\n",
      "iter:0,gamma_gap:77.424543\n",
      "iter:10,gamma_gap:0.015058\n",
      "iter:10,omega_gap:0.123894\n",
      "iter:0,gamma_gap:0.000259\n",
      "iter:11,omega_gap:0.117691\n",
      "iter:0,gamma_gap:95.648898\n",
      "iter:10,gamma_gap:0.015982\n",
      "iter:12,omega_gap:0.149968\n",
      "iter:0,gamma_gap:0.000256\n",
      "iter:13,omega_gap:0.139301\n",
      "iter:0,gamma_gap:110.777141\n",
      "iter:10,gamma_gap:0.021698\n",
      "iter:14,omega_gap:0.168627\n",
      "iter:0,gamma_gap:0.000354\n",
      "iter:15,omega_gap:0.152167\n",
      "iter:0,gamma_gap:120.287846\n",
      "iter:10,gamma_gap:0.022753\n",
      "iter:16,omega_gap:0.175349\n",
      "iter:0,gamma_gap:0.000394\n",
      "iter:17,omega_gap:0.153495\n",
      "iter:0,gamma_gap:112.845260\n",
      "iter:10,gamma_gap:0.037804\n",
      "iter:18,omega_gap:0.168617\n",
      "iter:0,gamma_gap:0.000438\n",
      "iter:19,omega_gap:0.150476\n",
      "iter:0,gamma_gap:99.707154\n",
      "iter:10,gamma_gap:0.067852\n",
      "iter:20,omega_gap:0.157294\n",
      "iter:0,gamma_gap:0.000318\n",
      "iter:21,omega_gap:0.134312\n",
      "iter:0,gamma_gap:83.443150\n",
      "iter:10,gamma_gap:0.056128\n",
      "iter:22,omega_gap:0.132800\n",
      "iter:0,gamma_gap:0.000348\n",
      "iter:23,omega_gap:0.111176\n",
      "iter:0,gamma_gap:68.868646\n",
      "iter:10,gamma_gap:0.028869\n",
      "iter:24,omega_gap:0.113414\n",
      "iter:0,gamma_gap:0.000428\n",
      "iter:25,omega_gap:0.095771\n",
      "iter:0,gamma_gap:62.735524\n",
      "iter:10,gamma_gap:0.067939\n",
      "iter:26,omega_gap:0.103185\n",
      "iter:0,gamma_gap:0.000389\n",
      "iter:27,omega_gap:0.092750\n",
      "iter:0,gamma_gap:54.362228\n",
      "iter:10,gamma_gap:0.235879\n",
      "iter:20,gamma_gap:0.135697\n",
      "iter:30,gamma_gap:0.371722\n",
      "iter:28,omega_gap:0.104552\n",
      "iter:0,gamma_gap:0.000442\n",
      "iter:29,omega_gap:0.072527\n",
      "iter:0,gamma_gap:39.548769\n",
      "iter:10,gamma_gap:0.112271\n",
      "iter:20,gamma_gap:0.001195\n",
      "iter:30,omega_gap:0.069034\n",
      "iter:0,gamma_gap:0.000482\n",
      "iter:31,omega_gap:0.056407\n",
      "iter:0,gamma_gap:31.236560\n",
      "iter:10,gamma_gap:0.137215\n",
      "iter:20,gamma_gap:0.005024\n",
      "iter:32,omega_gap:0.061036\n",
      "iter:0,gamma_gap:0.000710\n",
      "iter:33,omega_gap:0.051771\n",
      "iter:0,gamma_gap:26.332311\n",
      "iter:10,gamma_gap:0.028174\n",
      "iter:20,gamma_gap:0.001162\n",
      "iter:34,omega_gap:0.053551\n",
      "iter:0,gamma_gap:0.000614\n",
      "iter:35,omega_gap:0.041200\n",
      "iter:0,gamma_gap:20.311323\n",
      "iter:10,gamma_gap:0.014655\n",
      "iter:20,gamma_gap:0.001031\n",
      "iter:36,omega_gap:0.045045\n",
      "iter:0,gamma_gap:0.000618\n",
      "iter:37,omega_gap:0.039228\n",
      "iter:0,gamma_gap:21.064545\n",
      "iter:10,gamma_gap:0.003973\n",
      "iter:38,omega_gap:0.045047\n",
      "iter:0,gamma_gap:0.000337\n",
      "iter:39,omega_gap:0.036860\n",
      "iter:0,gamma_gap:19.535383\n",
      "iter:10,gamma_gap:0.006370\n",
      "iter:40,omega_gap:0.043738\n",
      "iter:0,gamma_gap:0.000273\n",
      "iter:41,omega_gap:0.028490\n",
      "iter:0,gamma_gap:14.201423\n",
      "iter:10,gamma_gap:0.001075\n",
      "iter:42,omega_gap:0.028744\n",
      "iter:0,gamma_gap:0.000180\n",
      "iter:43,omega_gap:0.022496\n",
      "iter:0,gamma_gap:9.942429\n",
      "iter:10,gamma_gap:0.002001\n",
      "iter:44,omega_gap:0.025863\n",
      "iter:0,gamma_gap:0.000369\n",
      "iter:45,omega_gap:0.024524\n",
      "iter:0,gamma_gap:12.814196\n",
      "iter:10,gamma_gap:0.020992\n",
      "iter:46,omega_gap:0.032503\n",
      "iter:0,gamma_gap:0.000468\n",
      "iter:47,omega_gap:0.020073\n",
      "iter:0,gamma_gap:9.628491\n",
      "iter:10,gamma_gap:0.002908\n",
      "iter:48,omega_gap:0.021083\n",
      "iter:0,gamma_gap:0.000284\n",
      "iter:49,omega_gap:0.015494\n",
      "iter:0,gamma_gap:6.405860\n",
      "iter:10,gamma_gap:0.155776\n",
      "iter:20,gamma_gap:0.002702\n",
      "iter:50,omega_gap:0.025160\n",
      "iter:0,gamma_gap:0.000172\n",
      "iter:51,omega_gap:0.014012\n",
      "iter:0,gamma_gap:5.969953\n",
      "iter:10,gamma_gap:0.000596\n",
      "iter:52,omega_gap:0.015850\n",
      "iter:0,gamma_gap:0.000212\n",
      "iter:53,omega_gap:0.012438\n",
      "iter:0,gamma_gap:5.382403\n",
      "iter:10,gamma_gap:0.000455\n",
      "iter:54,omega_gap:0.012965\n",
      "iter:0,gamma_gap:0.000163\n",
      "iter:55,omega_gap:0.010040\n",
      "iter:0,gamma_gap:3.776734\n",
      "iter:56,omega_gap:0.010859\n",
      "iter:0,gamma_gap:0.000360\n",
      "iter:57,omega_gap:0.009201\n",
      "iter:0,gamma_gap:3.376985\n",
      "iter:58,omega_gap:0.009878\n",
      "iter:0,gamma_gap:0.000331\n",
      "iter:59,omega_gap:0.008354\n",
      "iter:0,gamma_gap:2.964277\n",
      "iter:60,omega_gap:0.008782\n",
      "iter:0,gamma_gap:0.000258\n",
      "iter:61,omega_gap:0.007821\n",
      "iter:0,gamma_gap:2.712919\n",
      "iter:62,omega_gap:0.008412\n",
      "iter:0,gamma_gap:0.000236\n",
      "iter:63,omega_gap:0.008049\n",
      "iter:0,gamma_gap:3.024595\n",
      "iter:64,omega_gap:0.008926\n",
      "iter:0,gamma_gap:0.000330\n",
      "iter:65,omega_gap:0.008379\n",
      "iter:0,gamma_gap:3.421523\n",
      "iter:10,gamma_gap:0.000480\n",
      "iter:66,omega_gap:0.009498\n",
      "iter:0,gamma_gap:0.000188\n",
      "iter:67,omega_gap:0.009142\n",
      "iter:0,gamma_gap:4.188019\n",
      "iter:10,gamma_gap:0.000859\n",
      "iter:68,omega_gap:0.010714\n",
      "iter:0,gamma_gap:0.000345\n",
      "iter:69,omega_gap:0.010217\n",
      "iter:0,gamma_gap:5.285253\n",
      "iter:10,gamma_gap:0.001856\n",
      "iter:70,omega_gap:0.013073\n",
      "iter:0,gamma_gap:0.000324\n",
      "iter:71,omega_gap:0.011679\n",
      "iter:0,gamma_gap:6.834963\n",
      "iter:10,gamma_gap:0.003424\n",
      "iter:72,omega_gap:0.015225\n",
      "iter:0,gamma_gap:0.000280\n",
      "iter:73,omega_gap:0.011778\n",
      "iter:0,gamma_gap:7.331075\n",
      "iter:10,gamma_gap:0.003838\n",
      "iter:74,omega_gap:0.014307\n",
      "iter:0,gamma_gap:0.000335\n",
      "iter:75,omega_gap:0.010026\n",
      "iter:0,gamma_gap:6.067407\n",
      "iter:10,gamma_gap:0.003201\n",
      "iter:76,omega_gap:0.011779\n",
      "iter:0,gamma_gap:0.000293\n",
      "iter:77,omega_gap:0.008802\n",
      "iter:0,gamma_gap:5.058205\n",
      "iter:10,gamma_gap:0.003016\n",
      "iter:78,omega_gap:0.010413\n",
      "iter:0,gamma_gap:0.000291\n",
      "iter:79,omega_gap:0.007941\n",
      "iter:0,gamma_gap:4.362736\n",
      "iter:10,gamma_gap:0.002415\n",
      "iter:80,omega_gap:0.008745\n",
      "iter:0,gamma_gap:0.000241\n",
      "iter:81,omega_gap:0.006671\n",
      "iter:0,gamma_gap:3.312324\n",
      "iter:10,gamma_gap:0.001505\n",
      "iter:82,omega_gap:0.006952\n",
      "iter:0,gamma_gap:0.000329\n",
      "iter:83,omega_gap:0.005805\n",
      "iter:0,gamma_gap:2.528466\n",
      "iter:10,gamma_gap:0.000998\n",
      "iter:84,omega_gap:0.005949\n",
      "iter:0,gamma_gap:0.000471\n",
      "iter:85,omega_gap:0.005336\n",
      "iter:0,gamma_gap:2.092378\n",
      "iter:10,gamma_gap:0.000797\n",
      "iter:86,omega_gap:0.005439\n",
      "iter:0,gamma_gap:0.000380\n",
      "iter:87,omega_gap:0.005048\n",
      "iter:0,gamma_gap:1.846360\n",
      "iter:10,gamma_gap:0.000783\n",
      "iter:88,omega_gap:0.005183\n",
      "iter:0,gamma_gap:0.000377\n",
      "iter:89,omega_gap:0.004890\n",
      "iter:0,gamma_gap:1.743497\n",
      "iter:10,gamma_gap:0.000979\n",
      "iter:90,omega_gap:0.005105\n",
      "iter:0,gamma_gap:0.000477\n",
      "iter:91,omega_gap:0.004851\n",
      "iter:0,gamma_gap:1.773353\n",
      "iter:10,gamma_gap:0.001340\n",
      "iter:92,omega_gap:0.005132\n",
      "iter:0,gamma_gap:0.000325\n",
      "iter:93,omega_gap:0.004760\n",
      "iter:0,gamma_gap:1.799700\n",
      "iter:10,gamma_gap:0.001474\n",
      "iter:94,omega_gap:0.004989\n",
      "iter:0,gamma_gap:0.000365\n",
      "iter:95,omega_gap:0.004501\n",
      "iter:0,gamma_gap:1.687365\n",
      "iter:10,gamma_gap:0.001289\n",
      "iter:96,omega_gap:0.004660\n",
      "iter:0,gamma_gap:0.000324\n",
      "iter:97,omega_gap:0.004280\n",
      "iter:0,gamma_gap:1.566021\n",
      "iter:10,gamma_gap:0.001155\n",
      "iter:98,omega_gap:0.004447\n",
      "iter:0,gamma_gap:0.000295\n",
      "iter:99,omega_gap:0.004183\n",
      "FINAL:VI:0,gamma_gap:1.535778\n",
      "FINAL:VI:10,gamma_gap:0.001219\n",
      "FINAL:VI:20,gamma_gap:0.000001\n",
      "FINAL:VI:30,gamma_gap:0.000000\n",
      "FINAL:VI:40,gamma_gap:0.000000\n",
      "FINAL:VI:50,gamma_gap:0.000000\n",
      "FINAL:VI:60,gamma_gap:0.000000\n",
      "FINAL:VI:70,gamma_gap:0.000000\n",
      "FINAL:VI:80,gamma_gap:0.000000\n",
      "FINAL:VI:90,gamma_gap:0.000000\n"
     ]
    }
   ],
   "source": [
    "# variational-EM\n",
    "for it_em in range(n_iter_EM):\n",
    "    # E-step\n",
    "    for it_vi in range(n_iter_VI):\n",
    "        gamma_last=gamma[:]       \n",
    "        gamma=delta.sum(axis=0)+alpha\n",
    "\n",
    "        for k in range(K**2):\n",
    "            delta[:,k]=omega[index2ij(k,K)[0],SS[range(L)]]*omega[index2ij(k,K)[1],RS[range(L)]]*np.exp(digamma(gamma[k]))\n",
    "        delta=delta/delta.sum(axis=1)[:,np.newaxis]\n",
    "        # check convergence \n",
    "        gamma_gap=np.abs(gamma-gamma_last).sum()\n",
    "        if it_vi%verbose==0:\n",
    "            print('iter:%d,gamma_gap:%f'%(it_vi,gamma_gap))\n",
    "        if gamma_gap<gamma_max_gap:\n",
    "            break\n",
    "            \n",
    "    # M-step\n",
    "    omega_last=omega.copy() \n",
    "    # omega\n",
    "    S_dist=np.zeros((L,K))\n",
    "    R_dist=np.zeros((L,K))\n",
    "    for l in range(L):\n",
    "        S_dist[l,:]=delta[l,:].reshape(K,K).sum(axis=1)\n",
    "        R_dist[l,:]=delta[l,:].reshape(K,K).sum(axis=0)\n",
    "    term_1=term_2=0\n",
    "    \n",
    "    for d in range(D):\n",
    "        S_id=S_ids.get(d,[])\n",
    "        term_1=S_dist[S_id,:].sum(axis=0)\n",
    "        R_id=R_ids.get(d,[])\n",
    "        term_2=R_dist[R_id,:].sum(axis=0)\n",
    "        omega[:,d]=term_1+term_2\n",
    "    omega=omega/omega.sum(axis=1)[:,np.newaxis]\n",
    "\n",
    "    # check convergence\n",
    "    omega_gap=np.abs(omega-omega_last).sum() \n",
    "    print('iter:%d,omega_gap:%f'%(it_em,omega_gap))\n",
    "    if omega_gap<omega_max_gap:\n",
    "        break \n",
    "        \n",
    "# one more VI after EM converges\n",
    "for it_vi in range(n_iter_VI):\n",
    "    gamma_last=gamma[:]\n",
    "    # solve gamma&delta\n",
    "    gamma=delta.sum(axis=0)+alpha\n",
    "\n",
    "    for k in range(K**2):\n",
    "        delta[:,k]=omega[index2ij(k,K)[0],SS[range(L)]]*omega[index2ij(k,K)[1],RS[range(L)]]*np.exp(digamma(gamma[k]))\n",
    "    delta=delta/delta.sum(axis=1)[:,np.newaxis]\n",
    "                \n",
    "    # check convergence \n",
    "    gamma_gap=np.abs(gamma-gamma_last).sum()\n",
    "    if it_vi%verbose==0:\n",
    "        print('FINAL:VI:%d,gamma_gap:%f'%(it_vi,gamma_gap)) \n",
    "        "
   ]
  },
  {
   "cell_type": "code",
   "execution_count": 13,
   "metadata": {},
   "outputs": [],
   "source": [
    "# derive expectation from posterior (variational) distribution\n",
    "theta=gamma/gamma.sum()\n",
    "theta=theta.reshape(K,K)"
   ]
  },
  {
   "cell_type": "markdown",
   "metadata": {},
   "source": [
    "## evaluation"
   ]
  },
  {
   "cell_type": "markdown",
   "metadata": {},
   "source": [
    "### utils "
   ]
  },
  {
   "cell_type": "code",
   "execution_count": 14,
   "metadata": {
    "scrolled": true
   },
   "outputs": [
    {
     "data": {
      "text/plain": [
       "array([[4.36283043e-06, 4.36283043e-06, 4.36283043e-06],\n",
       "       [5.77162177e-02, 4.36283043e-06, 4.36283043e-06],\n",
       "       [5.47126060e-01, 3.95131546e-01, 4.36283043e-06]])"
      ]
     },
     "execution_count": 14,
     "metadata": {},
     "output_type": "execute_result"
    }
   ],
   "source": [
    "theta "
   ]
  },
  {
   "cell_type": "code",
   "execution_count": 15,
   "metadata": {},
   "outputs": [
    {
     "data": {
      "text/plain": [
       "[[('Genetic_Algorithms', 0.003608368528113696),\n",
       "  ('Genetic_Algorithms', 0.003608368528113696),\n",
       "  ('Neural_Networks', 0.003608368528113696),\n",
       "  ('Genetic_Algorithms', 0.003608368528113696),\n",
       "  ('Theory', 0.0036083685281134087),\n",
       "  ('Neural_Networks', 0.003608368528109202),\n",
       "  ('Genetic_Algorithms', 0.0036083685280567266),\n",
       "  ('Genetic_Algorithms', 0.0036083682690487093),\n",
       "  ('Neural_Networks', 0.0036083680008386675),\n",
       "  ('Neural_Networks', 0.0036083678975816326)],\n",
       " [('Genetic_Algorithms', 0.006200722232204659),\n",
       "  ('Genetic_Algorithms', 0.005774426912952073),\n",
       "  ('Theory', 0.005774426907636503),\n",
       "  ('Genetic_Algorithms', 0.00577441924560289),\n",
       "  ('Theory', 0.005767129170489887),\n",
       "  ('Theory', 0.005753979456976146),\n",
       "  ('Neural_Networks', 0.005731156694828205),\n",
       "  ('Genetic_Algorithms', 0.00493368337255565),\n",
       "  ('Theory', 0.004932245245340543),\n",
       "  ('Neural_Networks', 0.00481202242745971)],\n",
       " [('Genetic_Algorithms', 0.061010869244689),\n",
       "  ('Neural_Networks', 0.027324073744482744),\n",
       "  ('Neural_Networks', 0.01991414999174541),\n",
       "  ('Neural_Networks', 0.012061939360363238),\n",
       "  ('Neural_Networks', 0.009887806167873976),\n",
       "  ('Genetic_Algorithms', 0.008799277985511392),\n",
       "  ('Theory', 0.008799277985511392),\n",
       "  ('Neural_Networks', 0.00814737796429384),\n",
       "  ('Neural_Networks', 0.00740991830358854),\n",
       "  ('Theory', 0.006946798409614256)]]"
      ]
     },
     "execution_count": 15,
     "metadata": {},
     "output_type": "execute_result"
    }
   ],
   "source": [
    "get_top_docs(omega,labels_sub,10)"
   ]
  },
  {
   "cell_type": "code",
   "execution_count": 41,
   "metadata": {},
   "outputs": [],
   "source": [
    "pred_links=predict_links(G_sub,K,theta,omega,10000)"
   ]
  },
  {
   "cell_type": "code",
   "execution_count": 42,
   "metadata": {},
   "outputs": [
    {
     "data": {
      "text/plain": [
       "(54, 0.0054)"
      ]
     },
     "execution_count": 42,
     "metadata": {},
     "output_type": "execute_result"
    }
   ],
   "source": [
    "pred_links_acc(pred_links,removed_edges)"
   ]
  },
  {
   "cell_type": "code",
   "execution_count": 43,
   "metadata": {
    "scrolled": true
   },
   "outputs": [
    {
     "data": {
      "text/plain": [
       "1.0907504363001745"
      ]
     },
     "execution_count": 43,
     "metadata": {},
     "output_type": "execute_result"
    }
   ],
   "source": [
    "10000/len(G_sub.edges)**2*len(removed_edges)"
   ]
  },
  {
   "cell_type": "code",
   "execution_count": 30,
   "metadata": {},
   "outputs": [],
   "source": [
    "pred_edges_number=10000"
   ]
  },
  {
   "cell_type": "code",
   "execution_count": 31,
   "metadata": {},
   "outputs": [],
   "source": [
    "# generate new edges\n",
    "edges_pred=[]\n",
    "for i in range(pred_edges_number):\n",
    "    k=np.nonzero(stats.multinomial.rvs(1,theta.flatten()))[0].item() \n",
    "    k_i,k_j=index2ij(k,K)\n",
    "    s=np.nonzero(stats.multinomial.rvs(1,omega[k_i,:]))[0].item() \n",
    "    r=np.nonzero(stats.multinomial.rvs(1,omega[k_j,:]))[0].item() \n",
    "    edges_pred.append((s,r)) "
   ]
  },
  {
   "cell_type": "code",
   "execution_count": 32,
   "metadata": {},
   "outputs": [
    {
     "data": {
      "text/plain": [
       "(15, 0.0015)"
      ]
     },
     "execution_count": 32,
     "metadata": {},
     "output_type": "execute_result"
    }
   ],
   "source": [
    "pred_links_acc(edges_pred,removed_edges)"
   ]
  },
  {
   "cell_type": "code",
   "execution_count": null,
   "metadata": {},
   "outputs": [],
   "source": []
  },
  {
   "cell_type": "code",
   "execution_count": null,
   "metadata": {},
   "outputs": [],
   "source": [
    "# one more VI after EM converges\n",
    "for it_vi in range(n_iter_VI):\n",
    "    gamma_last=gamma[:]\n",
    "    # solve gamma&delta\n",
    "    gamma=delta.sum(axis=0)+alpha\n",
    "\n",
    "    for k in range(K**2):\n",
    "        delta[:,k]=omega[index2ij(k,K)[0],SS[range(L)]]*omega[index2ij(k,K)[1],RS[range(L)]]*np.exp(digamma(gamma[k]))\n",
    "delta=delta/delta.sum(axis=1)[:,np.newaxis]\n",
    "                \n",
    "    # check convergence \n",
    "    gamma_gap=np.abs(gamma-gamma_last).sum()\n",
    "    if it_vi%verbose==0:\n",
    "        print('FINAL:VI:%d,gamma_gap:%f'%(it_vi,gamma_gap)) "
   ]
  }
 ],
 "metadata": {
  "kernelspec": {
   "display_name": "Python 3",
   "language": "python",
   "name": "python3"
  },
  "language_info": {
   "codemirror_mode": {
    "name": "ipython",
    "version": 3
   },
   "file_extension": ".py",
   "mimetype": "text/x-python",
   "name": "python",
   "nbconvert_exporter": "python",
   "pygments_lexer": "ipython3",
   "version": "3.7.0"
  }
 },
 "nbformat": 4,
 "nbformat_minor": 4
}
